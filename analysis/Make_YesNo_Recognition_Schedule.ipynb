{
 "cells": [
  {
   "cell_type": "code",
   "execution_count": null,
   "metadata": {},
   "outputs": [],
   "source": [
    "directions = [45,35,25,15,5]\n",
    "labels = ['+20','+10','training','-10','-20']\n",
    "labeldict = dict(zip(directions,labels))\n",
    "n_each = 15"
   ]
  },
  {
   "cell_type": "code",
   "execution_count": null,
   "metadata": {},
   "outputs": [],
   "source": [
    "import random\n",
    "import pandas as pd\n",
    "import numpy as np"
   ]
  },
  {
   "cell_type": "code",
   "execution_count": null,
   "metadata": {},
   "outputs": [],
   "source": [
    "dirs = []\n",
    "lastdir = None\n",
    "for _ in range(n_each):\n",
    "    acceptable = False\n",
    "    while not acceptable:\n",
    "        d = directions[:]\n",
    "        random.shuffle(d)\n",
    "        acceptable = d[0]!=lastdir\n",
    "    lastdir=d[-1]\n",
    "    dirs+=d"
   ]
  },
  {
   "cell_type": "code",
   "execution_count": null,
   "metadata": {},
   "outputs": [],
   "source": [
    "\" \".join([str(d) for d in dirs ])"
   ]
  },
  {
   "cell_type": "code",
   "execution_count": null,
   "metadata": {},
   "outputs": [],
   "source": [
    "tab = pd.DataFrame({'direction':dirs})\n",
    "tab['type']=[ labeldict[d] for d in dirs ]\n",
    "tab['trial']=np.arange(len(dirs))+1\n",
    "tab.to_csv('recognitionyesno.csv')"
   ]
  },
  {
   "cell_type": "code",
   "execution_count": null,
   "metadata": {},
   "outputs": [],
   "source": [
    "tab"
   ]
  }
 ],
 "metadata": {
  "kernelspec": {
   "display_name": "Python 3",
   "language": "python",
   "name": "python3"
  },
  "language_info": {
   "codemirror_mode": {
    "name": "ipython",
    "version": 3
   },
   "file_extension": ".py",
   "mimetype": "text/x-python",
   "name": "python",
   "nbconvert_exporter": "python",
   "pygments_lexer": "ipython3",
   "version": "3.6.7"
  }
 },
 "nbformat": 4,
 "nbformat_minor": 2
}
