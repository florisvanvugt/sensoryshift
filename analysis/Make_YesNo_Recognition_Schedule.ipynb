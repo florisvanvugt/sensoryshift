{
 "cells": [
  {
   "cell_type": "code",
   "execution_count": 1,
   "metadata": {},
   "outputs": [],
   "source": [
    "#directions = [5,15,20,25,35]\n",
    "#labels = ['extremeleft','left','middle','right','extremeright']\n",
    "\n",
    "directions = [0,5,10,15,20,25,30,35]\n",
    "N = len(directions)\n",
    "#labels = ['baseline','5','10','15','middle','25','30','extremeright']\n",
    "#labeldict = dict(zip(directions,labels))\n",
    "\n",
    "n_each = 20 #15"
   ]
  },
  {
   "cell_type": "code",
   "execution_count": 2,
   "metadata": {},
   "outputs": [],
   "source": [
    "N_PARALLEL = 28 # for parallel processing, how many cores can we use"
   ]
  },
  {
   "cell_type": "code",
   "execution_count": 3,
   "metadata": {},
   "outputs": [
    {
     "name": "stdout",
     "output_type": "stream",
     "text": [
      "Populating the interactive namespace from numpy and matplotlib\n"
     ]
    }
   ],
   "source": [
    "%pylab inline\n",
    "import random\n",
    "import pandas as pd\n",
    "import numpy as np\n",
    "import time\n",
    "import multiprocessing\n",
    "import ctypes\n",
    "import numpy as np\n",
    "from IPython.display import display, clear_output\n",
    "import seaborn as sns\n",
    "import os"
   ]
  },
  {
   "cell_type": "code",
   "execution_count": 4,
   "metadata": {},
   "outputs": [],
   "source": [
    "def create_random_design():\n",
    "    dirs = []\n",
    "    lastdir = None\n",
    "    for _ in range(n_each):\n",
    "        acceptable = False\n",
    "        while not acceptable:\n",
    "            d = list(range(N)) #directions[:]\n",
    "            random.shuffle(d)\n",
    "            acceptable = d[0]!=lastdir\n",
    "        lastdir=d[-1]\n",
    "        dirs+=d\n",
    "    return dirs"
   ]
  },
  {
   "cell_type": "code",
   "execution_count": 5,
   "metadata": {},
   "outputs": [
    {
     "data": {
      "text/plain": [
       "'30 0 35 25 10 15 20 5 35 5 15 10 0 30 20 25 30 25 10 15 35 5 20 0 35 25 5 15 30 0 20 10 20 35 5 10 0 25 15 30 25 10 20 5 30 35 0 15 20 35 5 15 10 0 25 30 25 35 10 30 0 15 20 5 20 5 15 30 35 25 10 0 10 35 15 30 5 0 20 25 30 35 25 5 15 10 0 20 30 5 10 20 35 0 25 15 0 20 25 35 30 15 5 10 35 0 5 30 20 15 25 10 15 25 30 35 10 5 20 0 5 35 25 20 30 10 15 0 10 30 25 15 35 5 20 0 15 0 35 25 30 20 5 10 20 35 15 0 5 25 30 10 30 10 20 5 0 25 35 15'"
      ]
     },
     "execution_count": 5,
     "metadata": {},
     "output_type": "execute_result"
    }
   ],
   "source": [
    "dirs = create_random_design()\n",
    "\" \".join([str(directions[d]) for d in dirs ])"
   ]
  },
  {
   "cell_type": "code",
   "execution_count": 6,
   "metadata": {},
   "outputs": [
    {
     "data": {
      "text/plain": [
       "160"
      ]
     },
     "execution_count": 6,
     "metadata": {},
     "output_type": "execute_result"
    }
   ],
   "source": [
    "len(dirs)"
   ]
  },
  {
   "cell_type": "markdown",
   "metadata": {},
   "source": [
    "## What are the carry-over effects?"
   ]
  },
  {
   "cell_type": "code",
   "execution_count": 7,
   "metadata": {},
   "outputs": [],
   "source": [
    "def get_transitions(dirs):\n",
    "    # Get the first-order transition matrix\n",
    "    trans = [ (dirs[i],dirs[i+1]) for i in range(len(dirs)-1) ]\n",
    "    #n = len(directions)\n",
    "    transcount = np.zeros((N,N))\n",
    "    for i in range(len(dirs)-1):\n",
    "        transcount[dirs[i],dirs[i+1]]+=1\n",
    "    return transcount"
   ]
  },
  {
   "cell_type": "code",
   "execution_count": 8,
   "metadata": {},
   "outputs": [
    {
     "data": {
      "text/plain": [
       "array([[0., 3., 2., 3., 4., 4., 1., 3.],\n",
       "       [2., 0., 4., 5., 4., 1., 2., 2.],\n",
       "       [5., 1., 0., 4., 5., 0., 3., 2.],\n",
       "       [4., 1., 3., 0., 3., 2., 4., 2.],\n",
       "       [3., 6., 1., 1., 0., 3., 2., 4.],\n",
       "       [0., 2., 5., 3., 1., 0., 6., 3.],\n",
       "       [3., 2., 3., 1., 3., 4., 0., 4.],\n",
       "       [3., 5., 2., 3., 0., 6., 1., 0.]])"
      ]
     },
     "execution_count": 8,
     "metadata": {},
     "output_type": "execute_result"
    }
   ],
   "source": [
    "transcount = get_transitions(dirs)\n",
    "transcount"
   ]
  },
  {
   "cell_type": "code",
   "execution_count": 9,
   "metadata": {},
   "outputs": [
    {
     "data": {
      "text/plain": [
       "<matplotlib.image.AxesImage at 0x7f650d402e10>"
      ]
     },
     "execution_count": 9,
     "metadata": {},
     "output_type": "execute_result"
    },
    {
     "data": {
      "image/png": "[encoded data removed]",
      "text/plain": [
       "<matplotlib.figure.Figure at 0x7f64bf9314d0>"
      ]
     },
     "metadata": {},
     "output_type": "display_data"
    }
   ],
   "source": [
    "imshow(transcount)"
   ]
  },
  {
   "cell_type": "code",
   "execution_count": 10,
   "metadata": {},
   "outputs": [
    {
     "data": {
      "text/plain": [
       "array([20., 20., 20., 20., 20., 20., 19., 20.])"
      ]
     },
     "execution_count": 10,
     "metadata": {},
     "output_type": "execute_result"
    }
   ],
   "source": [
    "sum(transcount,0)"
   ]
  },
  {
   "cell_type": "code",
   "execution_count": 11,
   "metadata": {},
   "outputs": [],
   "source": [
    "#sum(transcount,0)"
   ]
  },
  {
   "cell_type": "code",
   "execution_count": 12,
   "metadata": {},
   "outputs": [
    {
     "data": {
      "text/plain": [
       "2.857142857142857"
      ]
     },
     "execution_count": 12,
     "metadata": {},
     "output_type": "execute_result"
    }
   ],
   "source": [
    "20./7"
   ]
  },
  {
   "cell_type": "code",
   "execution_count": 13,
   "metadata": {},
   "outputs": [
    {
     "data": {
      "text/plain": [
       "20"
      ]
     },
     "execution_count": 13,
     "metadata": {},
     "output_type": "execute_result"
    }
   ],
   "source": [
    "3*6+1*2"
   ]
  },
  {
   "cell_type": "markdown",
   "metadata": {},
   "source": [
    "## Batch-generate schedules and pick the best one\n",
    "Generations of scholars will wonder why on Earth we do this, but hey..."
   ]
  },
  {
   "cell_type": "code",
   "execution_count": 14,
   "metadata": {},
   "outputs": [],
   "source": [
    "def badness(mat):\n",
    "    # Tell us how bad this transition matrix is - how unequal are the transitional probability distributions?\n",
    "    \n",
    "    # Compute the average of each row\n",
    "    mat = np.array(mat)\n",
    "    n,_ = mat.shape\n",
    "    # Restrict to the off-diagonal elements \n",
    "    rowvalues = [ vals[sel] for (vals,sel) in zip(mat,(1-np.eye(n)).astype(bool)) ]\n",
    "    \n",
    "    # Compute the deviation of each item from the average for that row\n",
    "    dists = [ [ abs(r-np.mean(row)) for r in row ] for row in rowvalues ]\n",
    "    \n",
    "    return sum(np.array(dists).flatten())"
   ]
  },
  {
   "cell_type": "code",
   "execution_count": 15,
   "metadata": {},
   "outputs": [
    {
     "data": {
      "text/plain": [
       "68.57142857142856"
      ]
     },
     "execution_count": 15,
     "metadata": {},
     "output_type": "execute_result"
    }
   ],
   "source": [
    "badness(transcount)"
   ]
  },
  {
   "cell_type": "markdown",
   "metadata": {},
   "source": [
    "### What is the best badness we can expect?"
   ]
  },
  {
   "cell_type": "code",
   "execution_count": 16,
   "metadata": {},
   "outputs": [],
   "source": [
    "theo = 3*(ones((N,N))*(1-eye(N)))\n",
    "for i in range(N):\n",
    "    if i==3:\n",
    "        theo[i,4]=2\n",
    "        theo[i,2]=2\n",
    "    else:\n",
    "        theo[i,3]=2"
   ]
  },
  {
   "cell_type": "code",
   "execution_count": 17,
   "metadata": {},
   "outputs": [
    {
     "data": {
      "text/plain": [
       "array([[0., 3., 3., 2., 3., 3., 3., 3.],\n",
       "       [3., 0., 3., 2., 3., 3., 3., 3.],\n",
       "       [3., 3., 0., 2., 3., 3., 3., 3.],\n",
       "       [3., 3., 2., 0., 2., 3., 3., 3.],\n",
       "       [3., 3., 3., 2., 0., 3., 3., 3.],\n",
       "       [3., 3., 3., 2., 3., 0., 3., 3.],\n",
       "       [3., 3., 3., 2., 3., 3., 0., 3.],\n",
       "       [3., 3., 3., 2., 3., 3., 3., 0.]])"
      ]
     },
     "execution_count": 17,
     "metadata": {},
     "output_type": "execute_result"
    }
   ],
   "source": [
    "theo"
   ]
  },
  {
   "cell_type": "code",
   "execution_count": 18,
   "metadata": {},
   "outputs": [],
   "source": [
    "#sum(theo)"
   ]
  },
  {
   "cell_type": "code",
   "execution_count": 19,
   "metadata": {},
   "outputs": [
    {
     "data": {
      "text/plain": [
       "<matplotlib.image.AxesImage at 0x7f650c30d110>"
      ]
     },
     "execution_count": 19,
     "metadata": {},
     "output_type": "execute_result"
    },
    {
     "data": {
      "image/png": "[encoded data removed]",
      "text/plain": [
       "<matplotlib.figure.Figure at 0x7f650c371150>"
      ]
     },
     "metadata": {},
     "output_type": "display_data"
    }
   ],
   "source": [
    "imshow(theo)"
   ]
  },
  {
   "cell_type": "code",
   "execution_count": 20,
   "metadata": {},
   "outputs": [
    {
     "data": {
      "text/plain": [
       "array([20., 20., 20., 19., 20., 20., 20., 20.])"
      ]
     },
     "execution_count": 20,
     "metadata": {},
     "output_type": "execute_result"
    }
   ],
   "source": [
    "sum(theo,1)"
   ]
  },
  {
   "cell_type": "code",
   "execution_count": 21,
   "metadata": {},
   "outputs": [
    {
     "data": {
      "text/plain": [
       "14.857142857142854"
      ]
     },
     "execution_count": 21,
     "metadata": {},
     "output_type": "execute_result"
    }
   ],
   "source": [
    "LOWEST = badness(theo)\n",
    "LOWEST"
   ]
  },
  {
   "cell_type": "code",
   "execution_count": 22,
   "metadata": {},
   "outputs": [
    {
     "name": "stdout",
     "output_type": "stream",
     "text": [
      "0 best 66.0\n",
      "This took 0.588712930679 seconds i.e. 0.000163531369633 hours for 10000 designs\n",
      "At this rate 100000000 will take 1.63531369633 hours.\n"
     ]
    }
   ],
   "source": [
    "#N_DESIGNS = 1000000 # Neeraj wanted 100000000\n",
    "N_DESIGNS = 10000\n",
    "\n",
    "# Distribution of badnesses\n",
    "shared_array_base = multiprocessing.Array(ctypes.c_double, N_DESIGNS)\n",
    "shared_array = np.ctypeslib.as_array(shared_array_base.get_obj())\n",
    "#shared_array = shared_array.reshape(10, 10)\n",
    "\n",
    "# Best the design\n",
    "shared_design_base = multiprocessing.Array(ctypes.c_int, n_each*len(directions))\n",
    "shared_design = np.ctypeslib.as_array(shared_design_base.get_obj())\n",
    "\n",
    "bestbad = multiprocessing.Value('d', 999999)\n",
    "\n",
    "\n",
    "def generate_random(i,allbadness=shared_array,bestdesign=shared_design,bestb=bestbad):\n",
    "    #print(i)\n",
    "    design = create_random_design()\n",
    "    trans = get_transitions(design)\n",
    "    howbad = badness(trans)\n",
    "    allbadness[i]=howbad\n",
    "    if howbad<bestb.value:\n",
    "        bestb.value=howbad\n",
    "        for j,v in enumerate(design):\n",
    "            shared_design[j]=v\n",
    "    if i%100000==0:\n",
    "        print(\"{} best {}\".format(i,bestbad.value))\n",
    "    return \n",
    "\n",
    "# Parallel processing\n",
    "#def my_func(i, def_param=shared_array):\n",
    "#    shared_array[i,:] = i\n",
    "\n",
    "t0 = time.time()\n",
    "\n",
    "pool = multiprocessing.Pool(processes=N_PARALLEL)\n",
    "pool.map(generate_random, range(N_DESIGNS))\n",
    "\n",
    "tsec = (time.time()-t0)\n",
    "tdur = tsec/(60*60)\n",
    "\n",
    "print(\"This took {} seconds i.e. {} hours for {} designs\".format(tsec,tdur,N_DESIGNS))\n",
    "targetdes = 100000000\n",
    "print(\"At this rate {} will take {} hours.\".format(targetdes,targetdes*tdur/N_DESIGNS))\n",
    "\n",
    "#print(shared_array)\n",
    "#bestbad_posthoc = min(shared_array)\n",
    "#print(bestbad_posthoc,bestbad.value)"
   ]
  },
  {
   "cell_type": "code",
   "execution_count": 23,
   "metadata": {},
   "outputs": [
    {
     "name": "stdout",
     "output_type": "stream",
     "text": [
      "37.7142857143\n"
     ]
    },
    {
     "data": {
      "image/png": "[encoded data removed]",
      "text/plain": [
       "<matplotlib.figure.Figure at 0x7f650d3cac90>"
      ]
     },
     "metadata": {},
     "output_type": "display_data"
    }
   ],
   "source": [
    "sns.distplot(shared_array[:1000000])\n",
    "axvline(x=bestbad.value,color='red')\n",
    "axvline(x=LOWEST,color='green')\n",
    "sns.despine(offset=5)\n",
    "print(bestbad.value)\n"
   ]
  },
  {
   "cell_type": "code",
   "execution_count": 24,
   "metadata": {},
   "outputs": [],
   "source": [
    "dirs = list(shared_design)"
   ]
  },
  {
   "cell_type": "code",
   "execution_count": 25,
   "metadata": {},
   "outputs": [
    {
     "data": {
      "text/plain": [
       "array([[0., 3., 1., 4., 3., 3., 3., 3.],\n",
       "       [3., 0., 3., 3., 1., 3., 3., 4.],\n",
       "       [3., 2., 0., 2., 5., 3., 3., 2.],\n",
       "       [4., 2., 2., 0., 3., 2., 3., 4.],\n",
       "       [2., 5., 2., 3., 0., 3., 2., 3.],\n",
       "       [3., 2., 5., 3., 2., 0., 2., 3.],\n",
       "       [2., 4., 4., 2., 3., 3., 0., 1.],\n",
       "       [3., 2., 2., 3., 3., 3., 4., 0.]])"
      ]
     },
     "execution_count": 25,
     "metadata": {},
     "output_type": "execute_result"
    }
   ],
   "source": [
    "transcount = get_transitions(dirs)\n",
    "transcount"
   ]
  },
  {
   "cell_type": "code",
   "execution_count": 26,
   "metadata": {},
   "outputs": [
    {
     "data": {
      "text/plain": [
       "<matplotlib.image.AxesImage at 0x7f650c9d7dd0>"
      ]
     },
     "execution_count": 26,
     "metadata": {},
     "output_type": "execute_result"
    },
    {
     "data": {
      "image/png": "[encoded data removed]",
      "text/plain": [
       "<matplotlib.figure.Figure at 0x7f650d3a11d0>"
      ]
     },
     "metadata": {},
     "output_type": "display_data"
    }
   ],
   "source": [
    "imshow(transcount)"
   ]
  },
  {
   "cell_type": "code",
   "execution_count": 27,
   "metadata": {},
   "outputs": [],
   "source": [
    "# Let's save the history\n",
    "import pickle\n",
    "PICKLE_F = 'history.pickle'\n",
    "if os.path.exists(PICKLE_F):\n",
    "    history = pickle.load(open(PICKLE_F,'rb'))\n",
    "else:\n",
    "    history = []\n",
    "history.append({\"source\":\"bruteforce\",\"best_design\":list(shared_design)})\n",
    "pickle.dump(history,open(PICKLE_F,'wb'))"
   ]
  },
  {
   "cell_type": "markdown",
   "metadata": {},
   "source": [
    "Find the best design from the history..."
   ]
  },
  {
   "cell_type": "markdown",
   "metadata": {},
   "source": [
    "# Making sub-designs combining them into larger ones"
   ]
  },
  {
   "cell_type": "markdown",
   "metadata": {},
   "source": [
    "So the idea here is to create smaller designs that hopefully will be pretty good and then combining them into larger designs, hoping that those are good too!"
   ]
  },
  {
   "cell_type": "code",
   "execution_count": 73,
   "metadata": {},
   "outputs": [],
   "source": [
    "SUBSIZE  = 10 # instead of N_EACH, we make smaller designs of SUBSIZE * directions which we try to optimize\n",
    "N_SEARCH = 1000000 # create a whole lot of random small sub designs\n",
    "#N_SEARCH = 1000\n",
    "N_PICK   = 1000 # subset of the best of the N_SEARCH designs from which we start making our MASTER design"
   ]
  },
  {
   "cell_type": "code",
   "execution_count": 74,
   "metadata": {},
   "outputs": [],
   "source": [
    "assert n_each%SUBSIZE==0"
   ]
  },
  {
   "cell_type": "code",
   "execution_count": 75,
   "metadata": {},
   "outputs": [],
   "source": [
    "MINI_SIZE = SUBSIZE*len(directions) # how big a mini design is"
   ]
  },
  {
   "cell_type": "markdown",
   "metadata": {},
   "source": [
    "## STEP 1: GENERATE N_PICK DESIGNS"
   ]
  },
  {
   "cell_type": "markdown",
   "metadata": {},
   "source": [
    "If we want to save all generated designs, we need `N_SEARCH * SUBSIZE * directions` array. That's too much, and we need to go through them anyway afterwards."
   ]
  },
  {
   "cell_type": "code",
   "execution_count": 76,
   "metadata": {
    "scrolled": true
   },
   "outputs": [
    {
     "name": "stdout",
     "output_type": "stream",
     "text": [
      "Iteration 36\n",
      "Iteration 45\n",
      "Iteration 27\n",
      "Iteration 63\n",
      "Iteration 54\n",
      "Iteration 0\n",
      "Iteration 72\n",
      "Iteration 18\n",
      "Iteration 90\n",
      "Iteration 9\n",
      "Iteration 81\n",
      "Iteration 99\n",
      "Iteration 117\n",
      "Iteration 108\n",
      "Iteration 135\n",
      "Iteration 126\n",
      "Iteration 144\n",
      "Iteration 243\n",
      "Iteration 153\n",
      "Iteration 162\n",
      "Iteration 171\n",
      "Iteration 180\n",
      "Iteration 189\n",
      "Iteration 198\n",
      "Iteration 207\n",
      "Iteration 216\n",
      "Iteration 234\n",
      "Iteration 225\n",
      "Iteration 118\n",
      "Iteration 127\n",
      "Iteration 1\n",
      "Iteration 136\n",
      "Iteration 244\n",
      "Iteration 82\n",
      "Iteration 226\n",
      "Iteration 109\n",
      "Iteration 208\n",
      "Iteration 73\n",
      "Iteration 181\n",
      "Iteration 28\n",
      "Iteration 190\n",
      "Iteration 217\n",
      "Iteration 19\n",
      "Iteration 100\n",
      "Iteration 172\n",
      "Iteration 10\n",
      "Iteration 91\n",
      "Iteration 145\n",
      "Iteration 55\n",
      "Iteration 163\n",
      "Iteration 46\n",
      "Iteration 154\n",
      "Iteration 64\n",
      "Iteration 235\n",
      "Iteration 37\n",
      "Iteration 199\n",
      "Iteration 119\n",
      "Iteration 182\n",
      "Iteration 137\n",
      "Iteration 128\n",
      "Iteration 2\n",
      "Iteration 11\n",
      "Iteration 47\n",
      "Iteration 38\n",
      "Iteration 245\n",
      "Iteration 83\n",
      "Iteration 227\n",
      "Iteration 20\n",
      "Iteration 110\n",
      "Iteration 209\n",
      "Iteration 29\n",
      "Iteration 74\n",
      "Iteration 191\n",
      "Iteration 218\n",
      "Iteration 101\n",
      "Iteration 173\n",
      "Iteration 146\n",
      "Iteration 56\n",
      "Iteration 164\n",
      "Iteration 155\n",
      "Iteration 92\n",
      "Iteration 236\n",
      "Iteration 65\n",
      "Iteration 200\n",
      "Iteration 39\n",
      "Iteration 183\n",
      "Iteration 12\n",
      "Iteration 120\n",
      "Iteration 246\n",
      "Iteration 84\n",
      "Iteration 48\n",
      "Iteration 129\n",
      "Iteration 3\n",
      "Iteration 138\n",
      "Iteration 21\n",
      "Iteration 228\n",
      "Iteration 93\n",
      "Iteration 66\n",
      "Iteration 13\n",
      "Iteration 210\n",
      "Iteration 201\n",
      "Iteration 111\n",
      "Iteration 102\n",
      "Iteration 174\n",
      "Iteration 75\n",
      "Iteration 219\n",
      "Iteration 192\n",
      "Iteration 30\n",
      "Iteration 147\n",
      "Iteration 57\n",
      "Iteration 165\n",
      "Iteration 156\n",
      "Iteration 121\n",
      "Iteration 237\n",
      "Iteration 40\n",
      "Iteration 184\n",
      "Iteration 247\n",
      "Iteration 49\n",
      "Iteration 85\n",
      "Iteration 94\n",
      "Iteration 130\n",
      "Iteration 4\n",
      "Iteration 139\n",
      "Iteration 157\n",
      "Iteration 22\n",
      "Iteration 58\n",
      "Iteration 202\n",
      "Iteration 229\n",
      "Iteration 103\n",
      "Iteration 175\n",
      "Iteration 14\n",
      "Iteration 166\n",
      "Iteration 211\n",
      "Iteration 67\n",
      "Iteration 112\n",
      "Iteration 76\n",
      "Iteration 220\n",
      "Iteration 193\n",
      "Iteration 185\n",
      "Iteration 31\n",
      "Iteration 148\n",
      "Iteration 238\n",
      "Iteration 122\n",
      "Iteration 50\n",
      "Iteration 41\n",
      "Iteration 131\n",
      "Iteration 86\n",
      "Iteration 248\n",
      "Iteration 15\n",
      "Iteration 5\n",
      "Iteration 158\n",
      "Iteration 95\n",
      "Iteration 221\n",
      "Iteration 140\n",
      "Iteration 59\n",
      "Iteration 23\n",
      "Iteration 203\n",
      "Iteration 230\n",
      "Iteration 176\n",
      "Iteration 104\n",
      "Iteration 123\n",
      "Iteration 51\n",
      "Iteration 167\n",
      "Iteration 212\n",
      "Iteration 68\n",
      "Iteration 77\n",
      "Iteration 239\n",
      "Iteration 16\n",
      "Iteration 113\n",
      "Iteration 194\n",
      "Iteration 186\n",
      "Iteration 32\n",
      "Iteration 149\n",
      "Iteration 249\n",
      "Iteration 42\n",
      "Iteration 204\n",
      "Iteration 132\n",
      "Iteration 177\n",
      "Iteration 87\n",
      "Iteration 96\n",
      "Iteration 231\n",
      "Iteration 6\n",
      "Iteration 159\n",
      "Iteration 222\n",
      "Iteration 141\n",
      "Iteration 105\n",
      "Iteration 78\n",
      "Iteration 60\n",
      "Iteration 213\n",
      "Iteration 168\n",
      "Iteration 124\n",
      "Iteration 24\n",
      "Iteration 52\n",
      "Iteration 150\n",
      "Iteration 69\n",
      "Iteration 114\n",
      "Iteration 240\n",
      "Iteration 17\n",
      "Iteration 88\n",
      "Iteration 195\n",
      "Iteration 187\n",
      "Iteration 33\n",
      "Iteration 205\n",
      "Iteration 250\n",
      "Iteration 106\n",
      "Iteration 43\n",
      "Iteration 79\n",
      "Iteration 178\n",
      "Iteration 133\n",
      "Iteration 97\n",
      "Iteration 160\n",
      "Iteration 232\n",
      "Iteration 214\n",
      "Iteration 169\n",
      "Iteration 7\n",
      "Iteration 223\n",
      "Iteration 61\n",
      "Iteration 142\n",
      "Iteration 25\n",
      "Iteration 125\n",
      "Iteration 151\n",
      "Iteration 53\n",
      "Iteration 115\n",
      "Iteration 70\n",
      "Iteration 188\n",
      "Iteration 241\n",
      "Iteration 206\n",
      "Iteration 233\n",
      "Iteration 215\n",
      "Iteration 252\n",
      "Iteration 196\n",
      "Iteration 89\n",
      "Iteration 34\n",
      "Iteration 251\n",
      "Iteration 170\n",
      "Iteration 107\n",
      "Iteration 62\n",
      "Iteration 80\n",
      "Iteration 44\n",
      "Iteration 98\n",
      "Iteration 134\n",
      "Iteration 179\n",
      "Iteration 224\n",
      "Iteration 161\n",
      "Iteration 8\n",
      "Iteration 152\n",
      "Iteration 261\n",
      "Iteration 270\n",
      "Iteration 143\n",
      "Iteration 26\n",
      "Iteration 279\n",
      "Iteration 35\n",
      "Iteration 116\n",
      "Iteration 288\n",
      "Iteration 71\n",
      "Iteration 297\n",
      "Iteration 306\n",
      "Iteration 315\n",
      "Iteration 242\n",
      "Iteration 324\n",
      "Iteration 333\n",
      "Iteration 197\n",
      "Iteration 342\n",
      "Iteration 253\n",
      "Iteration 351\n",
      "Iteration 360\n",
      "Iteration 262\n",
      "Iteration 369\n",
      "Iteration 378\n",
      "Iteration 387\n",
      "Iteration 396\n",
      "Iteration 405\n",
      "Iteration 414\n",
      "Iteration 423\n",
      "Iteration 432\n",
      "Iteration 307\n",
      "Iteration 441\n",
      "Iteration 280\n",
      "Iteration 271\n",
      "Iteration 325\n",
      "Iteration 450\n",
      "Iteration 254\n",
      "Iteration 459\n",
      "Iteration 263\n",
      "Iteration 468\n",
      "Iteration 298\n",
      "Iteration 477\n",
      "Iteration 289\n",
      "Iteration 486\n",
      "Iteration 316\n",
      "Iteration 361\n",
      "Iteration 334\n",
      "Iteration 415\n",
      "Iteration 495\n",
      "Iteration 343\n",
      "Iteration 352\n",
      "Iteration 397\n",
      "Iteration 370\n",
      "Iteration 379\n",
      "Iteration 388\n",
      "Iteration 451\n",
      "Iteration 406\n",
      "Iteration 442\n",
      "Iteration 264\n",
      "Iteration 326\n",
      "Iteration 424\n",
      "Iteration 433\n",
      "Iteration 308\n",
      "Iteration 299\n",
      "Iteration 272\n",
      "Iteration 416\n",
      "Iteration 281\n",
      "Iteration 255\n",
      "Iteration 478\n",
      "Iteration 460\n",
      "Iteration 469\n",
      "Iteration 335\n",
      "Iteration 362\n",
      "Iteration 290\n",
      "Iteration 487\n",
      "Iteration 317\n",
      "Iteration 407\n",
      "Iteration 265\n",
      "Iteration 496\n",
      "Iteration 344\n",
      "Iteration 353\n",
      "Iteration 398\n",
      "Iteration 327\n",
      "Iteration 371\n",
      "Iteration 380\n",
      "Iteration 389\n",
      "Iteration 434\n",
      "Iteration 452\n",
      "Iteration 443\n",
      "Iteration 273\n",
      "Iteration 470\n",
      "Iteration 425\n",
      "Iteration 309\n",
      "Iteration 300\n",
      "Iteration 417\n",
      "Iteration 282\n",
      "Iteration 256\n",
      "Iteration 479\n",
      "Iteration 363\n",
      "Iteration 336\n",
      "Iteration 461\n",
      "Iteration 354\n",
      "Iteration 497\n",
      "Iteration 488\n",
      "Iteration 291\n",
      "Iteration 345\n",
      "Iteration 399\n",
      "Iteration 318\n",
      "Iteration 408\n",
      "Iteration 266\n",
      "Iteration 435\n",
      "Iteration 372\n",
      "Iteration 328\n",
      "Iteration 355\n",
      "Iteration 274\n",
      "Iteration 381\n",
      "Iteration 390\n",
      "Iteration 444\n",
      "Iteration 453\n",
      "Iteration 462\n",
      "Iteration 257\n",
      "Iteration 489\n",
      "Iteration 471\n",
      "Iteration 426\n",
      "Iteration 337\n",
      "Iteration 310\n",
      "Iteration 480\n",
      "Iteration 346\n",
      "Iteration 301\n",
      "Iteration 418\n",
      "Iteration 283\n",
      "Iteration 364\n",
      "Iteration 498\n",
      "Iteration 400\n",
      "Iteration 409\n",
      "Iteration 292\n",
      "Iteration 436\n",
      "Iteration 267\n",
      "Iteration 319\n",
      "Iteration 373\n",
      "Iteration 258\n",
      "Iteration 445\n",
      "Iteration 481\n",
      "Iteration 329\n",
      "Iteration 356\n",
      "Iteration 275\n",
      "Iteration 463\n",
      "Iteration 382\n",
      "Iteration 391\n",
      "Iteration 472\n",
      "Iteration 454\n",
      "Iteration 347\n",
      "Iteration 490\n",
      "Iteration 338\n",
      "Iteration 410\n",
      "Iteration 427\n",
      "Iteration 311\n",
      "Iteration 302\n",
      "Iteration 293\n",
      "Iteration 419\n",
      "Iteration 284\n",
      "Iteration 499\n",
      "Iteration 365\n",
      "Iteration 401\n",
      "Iteration 437\n",
      "Iteration 374\n",
      "Iteration 268\n",
      "Iteration 320\n",
      "Iteration 383\n",
      "Iteration 259\n",
      "Iteration 276\n",
      "Iteration 446\n",
      "Iteration 482\n",
      "Iteration 330\n",
      "Iteration 428\n",
      "Iteration 473\n",
      "Iteration 392\n",
      "Iteration 464\n",
      "Iteration 357\n",
      "Iteration 500\n",
      "Iteration 285\n",
      "Iteration 348\n",
      "Iteration 455\n",
      "Iteration 339\n",
      "Iteration 491\n",
      "Iteration 411\n",
      "Iteration 438\n",
      "Iteration 294\n",
      "Iteration 312\n",
      "Iteration 269\n",
      "Iteration 375\n",
      "Iteration 303\n",
      "Iteration 420\n",
      "Iteration 384\n",
      "Iteration 366\n",
      "Iteration 402\n",
      "Iteration 277\n",
      "Iteration 321\n",
      "Iteration 260\n",
      "Iteration 331\n",
      "Iteration 447\n",
      "Iteration 483\n",
      "Iteration 376\n",
      "Iteration 429\n",
      "Iteration 412\n",
      "Iteration 465\n",
      "Iteration 474\n",
      "Iteration 358\n",
      "Iteration 393\n",
      "Iteration 385\n",
      "Iteration 501\n",
      "Iteration 286\n",
      "Iteration 504\n",
      "Iteration 349\n",
      "Iteration 340\n",
      "Iteration 304\n",
      "Iteration 456\n",
      "Iteration 439\n",
      "Iteration 492\n",
      "Iteration 295\n",
      "Iteration 313\n",
      "Iteration 332\n",
      "Iteration 448\n",
      "Iteration 421\n",
      "Iteration 367\n",
      "Iteration 377\n",
      "Iteration 403\n",
      "Iteration 413\n",
      "Iteration 278\n",
      "Iteration 322\n",
      "Iteration 513\n",
      "Iteration 502\n",
      "Iteration 484\n",
      "Iteration 296\n",
      "Iteration 430\n",
      "Iteration 341\n",
      "Iteration 359\n",
      "Iteration 466\n",
      "Iteration 350\n",
      "Iteration 475\n",
      "Iteration 440\n",
      "Iteration 386\n",
      "Iteration 394\n",
      "Iteration 287\n",
      "Iteration 449\n",
      "Iteration 314\n",
      "Iteration 505\n",
      "Iteration 305\n",
      "Iteration 457\n",
      "Iteration 522\n",
      "Iteration 493\n",
      "Iteration 368\n",
      "Iteration 422\n",
      "Iteration 531\n",
      "Iteration 540\n",
      "Iteration 404\n",
      "Iteration 549\n",
      "Iteration 558\n",
      "Iteration 323\n",
      "Iteration 567\n",
      "Iteration 503\n",
      "Iteration 514\n",
      "Iteration 576\n",
      "Iteration 485\n",
      "Iteration 585\n",
      "Iteration 431\n",
      "Iteration 594\n",
      "Iteration 467\n",
      "Iteration 603\n",
      "Iteration 612\n",
      "Iteration 621\n",
      "Iteration 541\n",
      "Iteration 630\n",
      "Iteration 476\n",
      "Iteration 523\n",
      "Iteration 639\n",
      "Iteration 395\n",
      "Iteration 494\n",
      "Iteration 506\n",
      "Iteration 458\n",
      "Iteration 559\n",
      "Iteration 648\n",
      "Iteration 657\n",
      "Iteration 532\n",
      "Iteration 666\n",
      "Iteration 675\n",
      "Iteration 550\n",
      "Iteration 684\n",
      "Iteration 568\n",
      "Iteration 604\n",
      "Iteration 586\n",
      "Iteration 693\n",
      "Iteration 595\n",
      "Iteration 702\n",
      "Iteration 515\n",
      "Iteration 622\n",
      "Iteration 577\n",
      "Iteration 711\n",
      "Iteration 640\n",
      "Iteration 542\n",
      "Iteration 613\n",
      "Iteration 533\n",
      "Iteration 524\n",
      "Iteration 507\n",
      "Iteration 631\n",
      "Iteration 720\n",
      "Iteration 729\n",
      "Iteration 738\n",
      "Iteration 649\n",
      "Iteration 747\n",
      "Iteration 667\n",
      "Iteration 685\n",
      "Iteration 560\n",
      "Iteration 676\n",
      "Iteration 658\n",
      "Iteration 587\n",
      "Iteration 551\n",
      "Iteration 605\n",
      "Iteration 569\n",
      "Iteration 614\n",
      "Iteration 712\n",
      "Iteration 703\n",
      "Iteration 694\n",
      "Iteration 641\n",
      "Iteration 623\n",
      "Iteration 596\n",
      "Iteration 516\n",
      "Iteration 578\n",
      "Iteration 543\n",
      "Iteration 730\n",
      "Iteration 525\n",
      "Iteration 508\n",
      "Iteration 534\n",
      "Iteration 668\n",
      "Iteration 632\n",
      "Iteration 721\n",
      "Iteration 659\n",
      "Iteration 748\n",
      "Iteration 650\n",
      "Iteration 739\n",
      "Iteration 686\n",
      "Iteration 561\n",
      "Iteration 677\n",
      "Iteration 552\n",
      "Iteration 695\n",
      "Iteration 606\n",
      "Iteration 588\n",
      "Iteration 570\n",
      "Iteration 615\n"
     ]
    },
    {
     "name": "stdout",
     "output_type": "stream",
     "text": [
      "Iteration 535\n",
      "Iteration 713\n",
      "Iteration 704\n",
      "Iteration 642\n",
      "Iteration 624\n",
      "Iteration 579\n",
      "Iteration 597\n",
      "Iteration 544\n",
      "Iteration 722\n",
      "Iteration 740\n",
      "Iteration 517\n",
      "Iteration 526\n",
      "Iteration 660\n",
      "Iteration 669\n",
      "Iteration 731\n",
      "Iteration 749\n",
      "Iteration 687\n",
      "Iteration 509\n",
      "Iteration 633\n",
      "Iteration 651\n",
      "Iteration 678\n",
      "Iteration 536\n",
      "Iteration 589\n",
      "Iteration 562\n",
      "Iteration 553\n",
      "Iteration 696\n",
      "Iteration 607\n",
      "Iteration 527\n",
      "Iteration 616\n",
      "Iteration 750\n",
      "Iteration 571\n",
      "Iteration 580\n",
      "Iteration 705\n",
      "Iteration 714\n",
      "Iteration 643\n",
      "Iteration 510\n",
      "Iteration 625\n",
      "Iteration 688\n",
      "Iteration 723\n",
      "Iteration 598\n",
      "Iteration 670\n",
      "Iteration 537\n",
      "Iteration 545\n",
      "Iteration 661\n",
      "Iteration 741\n",
      "Iteration 518\n",
      "Iteration 732\n",
      "Iteration 634\n",
      "Iteration 563\n",
      "Iteration 652\n",
      "Iteration 679\n",
      "Iteration 590\n",
      "Iteration 581\n",
      "Iteration 626\n",
      "Iteration 706\n",
      "Iteration 554\n",
      "Iteration 662\n",
      "Iteration 697\n",
      "Iteration 617\n",
      "Iteration 608\n",
      "Iteration 546\n",
      "Iteration 528\n",
      "Iteration 715\n",
      "Iteration 751\n",
      "Iteration 572\n",
      "Iteration 599\n",
      "Iteration 689\n",
      "Iteration 644\n",
      "Iteration 724\n",
      "Iteration 511\n",
      "Iteration 653\n",
      "Iteration 671\n",
      "Iteration 538\n",
      "Iteration 733\n",
      "Iteration 742\n",
      "Iteration 519\n",
      "Iteration 582\n",
      "Iteration 591\n",
      "Iteration 564\n",
      "Iteration 635\n",
      "Iteration 680\n",
      "Iteration 707\n",
      "Iteration 529\n",
      "Iteration 627\n",
      "Iteration 618\n",
      "Iteration 555\n",
      "Iteration 663\n",
      "Iteration 698\n",
      "Iteration 547\n",
      "Iteration 716\n",
      "Iteration 609\n",
      "Iteration 654\n",
      "Iteration 592\n",
      "Iteration 752\n",
      "Iteration 512\n",
      "Iteration 573\n",
      "Iteration 600\n",
      "Iteration 690\n",
      "Iteration 743\n",
      "Iteration 725\n",
      "Iteration 645\n",
      "Iteration 539\n",
      "Iteration 672\n",
      "Iteration 734\n",
      "Iteration 583\n",
      "Iteration 520\n",
      "Iteration 708\n",
      "Iteration 548\n",
      "Iteration 565\n",
      "Iteration 530\n",
      "Iteration 636\n",
      "Iteration 628\n",
      "Iteration 619\n",
      "Iteration 681\n",
      "Iteration 610\n",
      "Iteration 717\n",
      "Iteration 699\n",
      "Iteration 664\n",
      "Iteration 556\n",
      "Iteration 756\n",
      "Iteration 584\n",
      "Iteration 655\n",
      "Iteration 726\n",
      "Iteration 593\n",
      "Iteration 765\n",
      "Iteration 744\n",
      "Iteration 753\n",
      "Iteration 601\n",
      "Iteration 574\n",
      "Iteration 691\n",
      "Iteration 646\n",
      "Iteration 774\n",
      "Iteration 673\n",
      "Iteration 629\n",
      "Iteration 735\n",
      "Iteration 783\n",
      "Iteration 566\n",
      "Iteration 521\n",
      "Iteration 665\n",
      "Iteration 709\n",
      "Iteration 620\n",
      "Iteration 637\n",
      "Iteration 700\n",
      "Iteration 682\n",
      "Iteration 557\n",
      "Iteration 792\n",
      "Iteration 718\n",
      "Iteration 611\n",
      "Iteration 656\n",
      "Iteration 766\n",
      "Iteration 736\n",
      "Iteration 757\n",
      "Iteration 801\n",
      "Iteration 727\n",
      "Iteration 754\n",
      "Iteration 745\n",
      "Iteration 602\n",
      "Iteration 692\n",
      "Iteration 810\n",
      "Iteration 638\n",
      "Iteration 575\n",
      "Iteration 647\n",
      "Iteration 819\n",
      "Iteration 775\n",
      "Iteration 674\n",
      "Iteration 828\n",
      "Iteration 837\n",
      "Iteration 784\n",
      "Iteration 710\n",
      "Iteration 701\n",
      "Iteration 767\n",
      "Iteration 846\n",
      "Iteration 802\n",
      "Iteration 737\n",
      "Iteration 683\n",
      "Iteration 855\n",
      "Iteration 864\n",
      "Iteration 793\n",
      "Iteration 719\n",
      "Iteration 873\n",
      "Iteration 882\n",
      "Iteration 755\n",
      "Iteration 758\n",
      "Iteration 728\n",
      "Iteration 746\n",
      "Iteration 820\n",
      "Iteration 891\n",
      "Iteration 900\n",
      "Iteration 909\n",
      "Iteration 918\n",
      "Iteration 811\n",
      "Iteration 927\n",
      "Iteration 936\n",
      "Iteration 785\n",
      "Iteration 776\n",
      "Iteration 838\n",
      "Iteration 829\n",
      "Iteration 945\n",
      "Iteration 768\n",
      "Iteration 847\n",
      "Iteration 874\n",
      "Iteration 954\n",
      "Iteration 803\n",
      "Iteration 963\n",
      "Iteration 901\n",
      "Iteration 892\n",
      "Iteration 972\n",
      "Iteration 794\n",
      "Iteration 856\n",
      "Iteration 865\n",
      "Iteration 981\n",
      "Iteration 883\n",
      "Iteration 990\n",
      "Iteration 919\n",
      "Iteration 759\n",
      "Iteration 910\n",
      "Iteration 821\n",
      "Iteration 999\n",
      "Iteration 786\n",
      "Iteration 812\n",
      "Iteration 928\n",
      "Iteration 946\n",
      "Iteration 937\n",
      "Iteration 777\n",
      "Iteration 839\n",
      "Iteration 866\n",
      "Iteration 955\n",
      "Iteration 830\n",
      "Iteration 973\n",
      "Iteration 920\n",
      "Iteration 769\n",
      "Iteration 848\n",
      "Iteration 964\n",
      "Iteration 875\n",
      "Iteration 893\n",
      "Iteration 902\n",
      "Iteration 804\n",
      "Iteration 911\n",
      "Iteration 982\n",
      "Iteration 795\n",
      "Iteration 857\n",
      "Iteration 787\n",
      "Iteration 822\n",
      "Iteration 884\n",
      "Iteration 991\n",
      "Iteration 760\n",
      "Iteration 921\n",
      "Iteration 778\n",
      "Iteration 813\n",
      "Iteration 938\n",
      "Iteration 929\n",
      "Iteration 947\n",
      "Iteration 956\n",
      "Iteration 867\n",
      "Iteration 840\n",
      "Iteration 823\n",
      "Iteration 858\n",
      "Iteration 831\n",
      "Iteration 770\n",
      "Iteration 876\n",
      "Iteration 761\n",
      "Iteration 903\n",
      "Iteration 849\n",
      "Iteration 974\n",
      "Iteration 983\n",
      "Iteration 805\n",
      "Iteration 965\n",
      "Iteration 894\n",
      "Iteration 912\n",
      "Iteration 796\n",
      "Iteration 992\n",
      "Iteration 788\n",
      "Iteration 779\n",
      "Iteration 885\n",
      "Iteration 957\n",
      "Iteration 814\n",
      "Iteration 922\n",
      "Iteration 850\n",
      "Iteration 984\n",
      "Iteration 939\n",
      "Iteration 948\n",
      "Iteration 930\n",
      "Iteration 993\n",
      "Iteration 868\n",
      "Iteration 780\n",
      "Iteration 841\n",
      "Iteration 824\n",
      "Iteration 859\n",
      "Iteration 832\n",
      "Iteration 877\n",
      "Iteration 806\n",
      "Iteration 771\n",
      "Iteration 913\n",
      "Iteration 762\n",
      "Iteration 904\n",
      "Iteration 975\n",
      "Iteration 958\n",
      "Iteration 966\n",
      "Iteration 895\n",
      "Iteration 851\n",
      "Iteration 985\n",
      "Iteration 797\n",
      "Iteration 789\n",
      "Iteration 886\n",
      "Iteration 807\n",
      "Iteration 914\n",
      "Iteration 923\n",
      "Iteration 815\n",
      "Iteration 949\n",
      "Iteration 852\n",
      "Iteration 959\n",
      "Iteration 986\n",
      "Iteration 940\n",
      "Iteration 931\n",
      "Iteration 869\n",
      "Iteration 994\n",
      "Iteration 781\n",
      "Iteration 842\n",
      "Iteration 825\n",
      "Iteration 860\n",
      "Iteration 833\n",
      "Iteration 878\n",
      "Iteration 772\n",
      "Iteration 763\n",
      "Iteration 905\n",
      "Iteration 976\n",
      "Iteration 790\n",
      "Iteration 967\n",
      "Iteration 896\n",
      "Iteration 924\n",
      "Iteration 808\n",
      "Iteration 798\n",
      "Iteration 950\n",
      "Iteration 853\n",
      "Iteration 915\n",
      "Iteration 887\n",
      "Iteration 816\n",
      "Iteration 941\n",
      "Iteration 960\n",
      "Iteration 987\n",
      "Iteration 879\n",
      "Iteration 826\n",
      "Iteration 932\n",
      "Iteration 870\n",
      "Iteration 995\n",
      "Iteration 854\n",
      "Iteration 968\n",
      "Iteration 897\n",
      "Iteration 782\n",
      "Iteration 843\n",
      "Iteration 861\n",
      "Iteration 834\n",
      "Iteration 773\n",
      "Iteration 817\n",
      "Iteration 791\n",
      "Iteration 977\n",
      "Iteration 764\n",
      "Iteration 906\n",
      "Iteration 925\n",
      "Iteration 809\n",
      "Iteration 916\n",
      "Iteration 951\n",
      "Iteration 799\n",
      "Iteration 880\n",
      "Iteration 888\n",
      "Iteration 961\n",
      "Iteration 942\n",
      "Iteration 969\n",
      "Iteration 988\n",
      "Iteration 862\n",
      "Iteration 907\n",
      "Iteration 827\n",
      "Iteration 898\n",
      "Iteration 996\n",
      "Iteration 917\n",
      "Iteration 933\n",
      "Iteration 871\n",
      "Iteration 800\n",
      "Iteration 844\n",
      "Iteration 835\n",
      "Iteration 978\n",
      "Iteration 818\n",
      "Iteration 889\n",
      "Iteration 926\n",
      "Iteration 863\n",
      "Iteration 908\n",
      "Iteration 952\n",
      "Iteration 997\n",
      "Iteration 962\n",
      "Iteration 881\n",
      "Iteration 899\n",
      "Iteration 943\n",
      "Iteration 934\n",
      "Iteration 872\n",
      "Iteration 836\n",
      "Iteration 989\n",
      "Iteration 970\n",
      "Iteration 979\n",
      "Iteration 845\n",
      "Iteration 890\n",
      "Iteration 998\n",
      "Iteration 953\n",
      "Iteration 935\n",
      "Iteration 944\n",
      "Iteration 980\n",
      "Iteration 971\n",
      "This took 32219.633357 seconds i.e. 8.94989815474 hours\n"
     ]
    }
   ],
   "source": [
    "t0 = time.time()\n",
    "\n",
    "# Best the design\n",
    "ALLDESIGNSSIZE = N_PICK*MINI_SIZE\n",
    "minidesigns_base = multiprocessing.Array(ctypes.c_int, ALLDESIGNSSIZE)\n",
    "minidesigns = np.ctypeslib.as_array(minidesigns_base.get_obj())\n",
    "\n",
    "\n",
    "def create_random_minidesign():\n",
    "    dirs = []\n",
    "    lastdir = None\n",
    "    for _ in range(SUBSIZE):\n",
    "        acceptable = False\n",
    "        while not acceptable:\n",
    "            d = list(range(N)) #directions[:]\n",
    "            random.shuffle(d)\n",
    "            acceptable = d[0]!=lastdir\n",
    "        lastdir=d[-1]\n",
    "        dirs+=d\n",
    "    return dirs\n",
    "\n",
    "\n",
    "\n",
    "def generate_random_static(i,minidesigns=minidesigns):\n",
    "    current_bad = 99999\n",
    "    current_design = None\n",
    "\n",
    "    print(\"Iteration {}\".format(i))\n",
    "    \n",
    "    for n in range(N_SEARCH):\n",
    "        design = create_random_minidesign()\n",
    "        trans = get_transitions(design)\n",
    "        howbad = badness(trans)\n",
    "        if howbad<current_bad:\n",
    "            current_bad=howbad\n",
    "            current_design = design[:]\n",
    "    #print(current_design)\n",
    "    \n",
    "    # The result of this function is a \"good\" mini-design\n",
    "    # Insert it into the current list of minidesigns\n",
    "    x = i*MINI_SIZE\n",
    "    for j,d in enumerate(current_design):\n",
    "        minidesigns[x+j]=d\n",
    "        \n",
    "    return\n",
    "\n",
    "\n",
    "pool = multiprocessing.Pool(processes=N_PARALLEL)\n",
    "pool.map(generate_random_static, range(N_PICK))\n",
    "#pool.map(generate_random_static, range(2))\n",
    "            \n",
    "tsec = (time.time()-t0)\n",
    "tdur = tsec/(60*60)\n",
    "\n",
    "print(\"This took {} seconds i.e. {} hours\".format(tsec,tdur))"
   ]
  },
  {
   "cell_type": "code",
   "execution_count": 77,
   "metadata": {},
   "outputs": [],
   "source": [
    "minidesigns = minidesigns.reshape( (N_PICK,MINI_SIZE) )"
   ]
  },
  {
   "cell_type": "code",
   "execution_count": 78,
   "metadata": {},
   "outputs": [
    {
     "data": {
      "text/plain": [
       "<matplotlib.image.AxesImage at 0x7f6492442850>"
      ]
     },
     "execution_count": 78,
     "metadata": {},
     "output_type": "execute_result"
    },
    {
     "data": {
      "image/png": "[encoded data removed]",
      "text/plain": [
       "<matplotlib.figure.Figure at 0x7f64a82bd150>"
      ]
     },
     "metadata": {},
     "output_type": "display_data"
    }
   ],
   "source": [
    "imshow(minidesigns)"
   ]
  },
  {
   "cell_type": "code",
   "execution_count": 79,
   "metadata": {},
   "outputs": [],
   "source": [
    "minidesigns = [ list(minidesigns[i,:]) for i in range(N_PICK) ]"
   ]
  },
  {
   "cell_type": "code",
   "execution_count": 80,
   "metadata": {},
   "outputs": [],
   "source": [
    "def design_to_badness(d):\n",
    "    if sum(d)==0: return 99999\n",
    "    transcount = get_transitions(d)\n",
    "    return badness(transcount)"
   ]
  },
  {
   "cell_type": "code",
   "execution_count": 81,
   "metadata": {},
   "outputs": [
    {
     "name": "stdout",
     "output_type": "stream",
     "text": [
      "37.7142857143\n"
     ]
    },
    {
     "data": {
      "image/png": "[encoded data removed]",
      "text/plain": [
       "<matplotlib.figure.Figure at 0x7f64a8054b10>"
      ]
     },
     "metadata": {},
     "output_type": "display_data"
    }
   ],
   "source": [
    "minibad = [ design_to_badness(md) for md in minidesigns ]\n",
    "\n",
    "sns.distplot(minibad)\n",
    "#axvline(x=bigbestbadness,color='red')\n",
    "#axvline(x=LOWEST,color='green')\n",
    "sns.despine(offset=5)\n",
    "print(bestbad.value)\n"
   ]
  },
  {
   "cell_type": "code",
   "execution_count": 82,
   "metadata": {},
   "outputs": [],
   "source": [
    "#minidesigns\n",
    "if False:\n",
    "    pickle.dump(minidesigns,open('minidesigns.pickle','wb'))"
   ]
  },
  {
   "cell_type": "markdown",
   "metadata": {},
   "source": [
    "## STEP 2: COMBINE CHILDREN TO MAKE MASTER DESIGN"
   ]
  },
  {
   "cell_type": "code",
   "execution_count": 83,
   "metadata": {},
   "outputs": [
    {
     "data": {
      "text/plain": [
       "<matplotlib.image.AxesImage at 0x7f6492048510>"
      ]
     },
     "execution_count": 83,
     "metadata": {},
     "output_type": "execute_result"
    },
    {
     "data": {
      "image/png": "[encoded data removed]",
      "text/plain": [
       "<matplotlib.figure.Figure at 0x7f6492668b50>"
      ]
     },
     "metadata": {},
     "output_type": "display_data"
    }
   ],
   "source": [
    "matrix(minidesigns)\n",
    "imshow(minidesigns)"
   ]
  },
  {
   "cell_type": "code",
   "execution_count": 84,
   "metadata": {},
   "outputs": [],
   "source": [
    "#minidesigns[0]'Iteration 532 badness 28.5714285714'"
   ]
  },
  {
   "cell_type": "code",
   "execution_count": 85,
   "metadata": {},
   "outputs": [],
   "source": [
    "def create_master_design():\n",
    "    # randomly create master design from the children\n",
    "    # but check that the edges align, i.e. that we don't create\n",
    "    # transitions from a particular direction to itself\n",
    "    \n",
    "    des = []\n",
    "    while len(des)<n_each*len(directions):\n",
    "        \n",
    "        # concatenate another design\n",
    "        mini = random.choice(minidesigns)\n",
    "        \n",
    "        # can we actually append this?\n",
    "        if len(des) and des[-1]==mini[0]:\n",
    "            continue # we cannot append this!\n",
    "        \n",
    "        des += mini\n",
    "\n",
    "    return des"
   ]
  },
  {
   "cell_type": "code",
   "execution_count": 86,
   "metadata": {},
   "outputs": [],
   "source": [
    "#minidesigns[1]"
   ]
  },
  {
   "cell_type": "code",
   "execution_count": 87,
   "metadata": {},
   "outputs": [],
   "source": [
    "m = create_master_design()"
   ]
  },
  {
   "cell_type": "code",
   "execution_count": 88,
   "metadata": {},
   "outputs": [
    {
     "data": {
      "text/plain": [
       "160"
      ]
     },
     "execution_count": 88,
     "metadata": {},
     "output_type": "execute_result"
    }
   ],
   "source": [
    "len(m)"
   ]
  },
  {
   "cell_type": "code",
   "execution_count": 89,
   "metadata": {},
   "outputs": [],
   "source": [
    "#t = get_transitions(m)[3., 3., 4., 2., 2., 2., 0., 4.],"
   ]
  },
  {
   "cell_type": "code",
   "execution_count": 90,
   "metadata": {},
   "outputs": [],
   "source": [
    "#badness(t)"
   ]
  },
  {
   "cell_type": "code",
   "execution_count": 98,
   "metadata": {},
   "outputs": [
    {
     "data": {
      "text/plain": [
       "'Iteration 999900 badness 16.5714285714'"
      ]
     },
     "metadata": {},
     "output_type": "display_data"
    }
   ],
   "source": [
    "N_MONTE_CARLO = 1000000\n",
    "\n",
    "bestmaster = None\n",
    "bestmasterbad = 99999\n",
    "\n",
    "graphbest = zeros(N_MONTE_CARLO)\n",
    "\n",
    "for i in range(N_MONTE_CARLO):\n",
    "    \n",
    "    master = create_master_design() # create a master design (concat)\n",
    "    \n",
    "    # determine badness of master\n",
    "    howbad = design_to_badness(master)\n",
    "    \n",
    "    # if better than before, keep it as best\n",
    "    if howbad<bestmasterbad:\n",
    "        bestmaster = master[:]\n",
    "        bestmasterbad = howbad\n",
    "\n",
    "    if i%100==0:\n",
    "        clear_output(wait=True)\n",
    "        display('Iteration {} badness {}'.format(i,bestmasterbad))\n",
    "    \n",
    "    graphbest[i]= bestmasterbad"
   ]
  },
  {
   "cell_type": "code",
   "execution_count": 99,
   "metadata": {},
   "outputs": [
    {
     "data": {
      "text/plain": [
       "[<matplotlib.lines.Line2D at 0x7f649275e910>]"
      ]
     },
     "execution_count": 99,
     "metadata": {},
     "output_type": "execute_result"
    },
    {
     "data": {
      "image/png": "[encoded data removed]",
      "text/plain": [
       "<matplotlib.figure.Figure at 0x7f6492635850>"
      ]
     },
     "metadata": {},
     "output_type": "display_data"
    }
   ],
   "source": [
    "plot(graphbest)"
   ]
  },
  {
   "cell_type": "code",
   "execution_count": 100,
   "metadata": {},
   "outputs": [
    {
     "data": {
      "text/plain": [
       "'6 1 0 4 2 7 5 3 1 7 2 3 0 6 5 4 2 4 5 0 6 1 7 3 4 3 5 7 0 2 1 6 4 0 2 3 7 1 5 6 2 0 5 3 6 7 1 4 0 1 5 2 7 6 4 3 2 5 4 7 1 0 3 6 3 0 6 7 5 1 2 4 1 3 5 2 6 0 7 4 1 5 3 7 2 4 6 0 4 6 2 3 0 5 7 1 0 3 5 7 4 2 1 6 7 0 4 5 6 1 3 2 7 4 3 2 6 0 5 1 4 1 2 5 0 7 6 3 6 2 1 4 7 5 0 3 7 3 1 6 4 0 2 5 6 3 4 5 2 0 1 7 2 0 1 3 4 7 6 5'"
      ]
     },
     "execution_count": 100,
     "metadata": {},
     "output_type": "execute_result"
    }
   ],
   "source": [
    "\" \".join([ str(s) for s in bestmaster])"
   ]
  },
  {
   "cell_type": "code",
   "execution_count": 101,
   "metadata": {},
   "outputs": [
    {
     "data": {
      "text/plain": [
       "array([[0., 3., 3., 3., 3., 3., 3., 2.],\n",
       "       [3., 0., 2., 3., 3., 3., 3., 3.],\n",
       "       [3., 3., 0., 3., 3., 3., 2., 3.],\n",
       "       [3., 2., 3., 0., 3., 3., 3., 3.],\n",
       "       [3., 3., 3., 3., 0., 3., 2., 3.],\n",
       "       [3., 2., 3., 3., 2., 0., 3., 3.],\n",
       "       [3., 3., 3., 3., 3., 2., 0., 3.],\n",
       "       [2., 4., 3., 2., 3., 3., 3., 0.]])"
      ]
     },
     "execution_count": 101,
     "metadata": {},
     "output_type": "execute_result"
    }
   ],
   "source": [
    "trans = get_transitions(bestmaster)\n",
    "trans"
   ]
  },
  {
   "cell_type": "code",
   "execution_count": 102,
   "metadata": {},
   "outputs": [
    {
     "data": {
      "text/plain": [
       "<matplotlib.image.AxesImage at 0x7f649239da10>"
      ]
     },
     "execution_count": 102,
     "metadata": {},
     "output_type": "execute_result"
    },
    {
     "data": {
      "image/png": "[encoded data removed]",
      "text/plain": [
       "<matplotlib.figure.Figure at 0x7f6492565f50>"
      ]
     },
     "metadata": {},
     "output_type": "display_data"
    }
   ],
   "source": [
    "imshow(trans)"
   ]
  },
  {
   "cell_type": "code",
   "execution_count": 103,
   "metadata": {},
   "outputs": [
    {
     "data": {
      "image/png": "[encoded data removed]",
      "text/plain": [
       "<matplotlib.figure.Figure at 0x7f64927ec550>"
      ]
     },
     "metadata": {},
     "output_type": "display_data"
    }
   ],
   "source": [
    "sns.distplot(shared_array[:1000000])\n",
    "#axvline(x=bigbestbadness,color='red')\n",
    "axvline(x=bestmasterbad,color='purple')\n",
    "axvline(x=LOWEST,color='green')\n",
    "sns.despine(offset=5)\n",
    "#print(bestbad.value)"
   ]
  },
  {
   "cell_type": "code",
   "execution_count": 104,
   "metadata": {},
   "outputs": [],
   "source": [
    "# Let's save the history\n",
    "import pickle\n",
    "PICKLE_F = 'history.pickle'\n",
    "if os.path.exists(PICKLE_F):\n",
    "    history = pickle.load(open(PICKLE_F,'rb'))\n",
    "else:\n",
    "    history = []\n",
    "history.append({\"minidesigns\":minidesigns,\"SUBSIZE\":SUBSIZE,\"N_SEARCH\":N_SEARCH,\"N_PICK\":N_PICK,\"source\":\"recombine_smaller\",\"best_design\":list(bestmaster)})\n",
    "pickle.dump(history,open(PICKLE_F,'wb'))"
   ]
  },
  {
   "cell_type": "markdown",
   "metadata": {},
   "source": [
    "# The whole history & Output\n",
    "What is the best thing we have found using any method?"
   ]
  },
  {
   "cell_type": "code",
   "execution_count": 105,
   "metadata": {},
   "outputs": [
    {
     "name": "stdout",
     "output_type": "stream",
     "text": [
      "22 candidates in history\n"
     ]
    }
   ],
   "source": [
    "print(\"{} candidates in history\".format(len(history)))"
   ]
  },
  {
   "cell_type": "code",
   "execution_count": 106,
   "metadata": {},
   "outputs": [],
   "source": [
    "#design_to_badness(h['best_design'])"
   ]
  },
  {
   "cell_type": "code",
   "execution_count": 107,
   "metadata": {},
   "outputs": [],
   "source": [
    "for h in history:\n",
    "    h['badness']= design_to_badness(h['best_design'])\n",
    "history = sorted(history, \n",
    "                 key = lambda x: x['badness'])"
   ]
  },
  {
   "cell_type": "code",
   "execution_count": 108,
   "metadata": {},
   "outputs": [
    {
     "data": {
      "text/plain": [
       "16.57142857142857"
      ]
     },
     "execution_count": 108,
     "metadata": {},
     "output_type": "execute_result"
    }
   ],
   "source": [
    "#history\n",
    "bigbest = history[0]['best_design']\n",
    "bigbestbadness = history[0]['badness']\n",
    "bigbestbadness"
   ]
  },
  {
   "cell_type": "code",
   "execution_count": 109,
   "metadata": {},
   "outputs": [
    {
     "data": {
      "text/plain": [
       "'30 5 0 20 10 35 25 15 5 35 10 15 0 30 25 20 10 20 25 0 30 5 35 15 20 15 25 35 0 10 5 30 20 0 10 15 35 5 25 30 10 0 25 15 30 35 5 20 0 5 25 10 35 30 20 15 10 25 20 35 5 0 15 30 15 0 30 35 25 5 10 20 5 15 25 10 30 0 35 20 5 25 15 35 10 20 30 0 20 30 10 15 0 25 35 5 0 15 25 35 20 10 5 30 35 0 20 25 30 5 15 10 35 20 15 10 30 0 25 5 20 5 10 25 0 35 30 15 30 10 5 20 35 25 0 15 35 15 5 30 20 0 10 25 30 15 20 25 10 0 5 35 10 0 5 15 20 35 30 25'"
      ]
     },
     "execution_count": 109,
     "metadata": {},
     "output_type": "execute_result"
    }
   ],
   "source": [
    "\" \".join([ str(directions[b]) for b in bigbest ])"
   ]
  },
  {
   "cell_type": "code",
   "execution_count": 110,
   "metadata": {},
   "outputs": [
    {
     "name": "stdout",
     "output_type": "stream",
     "text": [
      "37.7142857143\n"
     ]
    },
    {
     "data": {
      "image/png": "[encoded data removed]",
      "text/plain": [
       "<matplotlib.figure.Figure at 0x7f64921dad10>"
      ]
     },
     "metadata": {},
     "output_type": "display_data"
    }
   ],
   "source": [
    "sns.distplot(shared_array[:1000000])\n",
    "axvline(x=bigbestbadness,color='red')\n",
    "axvline(x=LOWEST,color='green')\n",
    "text(bigbestbadness,0,'%.2f'%bigbestbadness,color='red')\n",
    "sns.despine(offset=5)\n",
    "print(bestbad.value)"
   ]
  },
  {
   "cell_type": "markdown",
   "metadata": {},
   "source": [
    "## Output"
   ]
  },
  {
   "cell_type": "code",
   "execution_count": 111,
   "metadata": {},
   "outputs": [
    {
     "data": {
      "text/plain": [
       "'30 5 0 20 10 35 25 15 5 35 10 15 0 30 25 20 10 20 25 0 30 5 35 15 20 15 25 35 0 10 5 30 20 0 10 15 35 5 25 30 10 0 25 15 30 35 5 20 0 5 25 10 35 30 20 15 10 25 20 35 5 0 15 30 15 0 30 35 25 5 10 20 5 15 25 10 30 0 35 20 5 25 15 35 10 20 30 0 20 30 10 15 0 25 35 5 0 15 25 35 20 10 5 30 35 0 20 25 30 5 15 10 35 20 15 10 30 0 25 5 20 5 10 25 0 35 30 15 30 10 5 20 35 25 0 15 35 15 5 30 20 0 10 25 30 15 20 25 10 0 5 35 10 0 5 15 20 35 30 25'"
      ]
     },
     "execution_count": 111,
     "metadata": {},
     "output_type": "execute_result"
    }
   ],
   "source": [
    "chosen = [ directions[d] for d in bigbest ]\n",
    "' '.join([str(s) for s in chosen])"
   ]
  },
  {
   "cell_type": "code",
   "execution_count": 112,
   "metadata": {},
   "outputs": [
    {
     "name": "stdout",
     "output_type": "stream",
     "text": [
      "recognitionyesno_bestoverall_16.57.csv\n"
     ]
    }
   ],
   "source": [
    "tab = pd.DataFrame({'direction':chosen})\n",
    "tab['type']=[ 'direction{}'.format(d) for d in tab['direction']]\n",
    "tab['trial']=np.arange(len(chosen))+1\n",
    "#tab.to_csv('recognitionyesno_theOne.csv')\n",
    "outcsv = 'recognitionyesno_bestoverall_%.2f.csv'%bigbestbadness\n",
    "tab.to_csv(outcsv)\n",
    "print(outcsv)"
   ]
  },
  {
   "cell_type": "code",
   "execution_count": 113,
   "metadata": {},
   "outputs": [
    {
     "data": {
      "text/html": [
       "<div>\n",
       "<style scoped>\n",
       "    .dataframe tbody tr th:only-of-type {\n",
       "        vertical-align: middle;\n",
       "    }\n",
       "\n",
       "    .dataframe tbody tr th {\n",
       "        vertical-align: top;\n",
       "    }\n",
       "\n",
       "    .dataframe thead th {\n",
       "        text-align: right;\n",
       "    }\n",
       "</style>\n",
       "<table border=\"1\" class=\"dataframe\">\n",
       "  <thead>\n",
       "    <tr style=\"text-align: right;\">\n",
       "      <th></th>\n",
       "      <th>direction</th>\n",
       "      <th>type</th>\n",
       "      <th>trial</th>\n",
       "    </tr>\n",
       "  </thead>\n",
       "  <tbody>\n",
       "    <tr>\n",
       "      <th>0</th>\n",
       "      <td>30</td>\n",
       "      <td>direction30</td>\n",
       "      <td>1</td>\n",
       "    </tr>\n",
       "    <tr>\n",
       "      <th>1</th>\n",
       "      <td>5</td>\n",
       "      <td>direction5</td>\n",
       "      <td>2</td>\n",
       "    </tr>\n",
       "    <tr>\n",
       "      <th>2</th>\n",
       "      <td>0</td>\n",
       "      <td>direction0</td>\n",
       "      <td>3</td>\n",
       "    </tr>\n",
       "    <tr>\n",
       "      <th>3</th>\n",
       "      <td>20</td>\n",
       "      <td>direction20</td>\n",
       "      <td>4</td>\n",
       "    </tr>\n",
       "    <tr>\n",
       "      <th>4</th>\n",
       "      <td>10</td>\n",
       "      <td>direction10</td>\n",
       "      <td>5</td>\n",
       "    </tr>\n",
       "  </tbody>\n",
       "</table>\n",
       "</div>"
      ],
      "text/plain": [
       "   direction         type  trial\n",
       "0         30  direction30      1\n",
       "1          5   direction5      2\n",
       "2          0   direction0      3\n",
       "3         20  direction20      4\n",
       "4         10  direction10      5"
      ]
     },
     "execution_count": 113,
     "metadata": {},
     "output_type": "execute_result"
    }
   ],
   "source": [
    "tab.head()"
   ]
  },
  {
   "cell_type": "markdown",
   "metadata": {},
   "source": [
    "## Double-check\n",
    "I know, not strictly necessary, but it sounds like a good idea to double-check what we have written out."
   ]
  },
  {
   "cell_type": "code",
   "execution_count": 69,
   "metadata": {},
   "outputs": [],
   "source": [
    "drs = pd.read_csv('recognitionyesno_efficient23.csv')['direction']\n",
    "thedirs = list(set(drs))\n",
    "dr = [ thedirs.index(d) for d in drs ]"
   ]
  },
  {
   "cell_type": "code",
   "execution_count": 70,
   "metadata": {},
   "outputs": [
    {
     "data": {
      "text/plain": [
       "<matplotlib.image.AxesImage at 0x7f64a82e3dd0>"
      ]
     },
     "execution_count": 70,
     "metadata": {},
     "output_type": "execute_result"
    },
    {
     "data": {
      "image/png": "[encoded data removed]",
      "text/plain": [
       "<matplotlib.figure.Figure at 0x7f6531100990>"
      ]
     },
     "metadata": {},
     "output_type": "display_data"
    }
   ],
   "source": [
    "#drs\n",
    "trans = get_transitions(dr)\n",
    "imshow(trans)"
   ]
  },
  {
   "cell_type": "code",
   "execution_count": 71,
   "metadata": {},
   "outputs": [
    {
     "data": {
      "text/plain": [
       "23.142857142857142"
      ]
     },
     "execution_count": 71,
     "metadata": {},
     "output_type": "execute_result"
    }
   ],
   "source": [
    "badness(trans)"
   ]
  },
  {
   "cell_type": "markdown",
   "metadata": {},
   "source": [
    "# Doing this the smart way (maybe)"
   ]
  },
  {
   "cell_type": "code",
   "execution_count": null,
   "metadata": {},
   "outputs": [],
   "source": [
    "if True:\n",
    "    #Highest number in square\n",
    "    order_of_sq = int(input(\"Enter order of sq: \"))\n",
    "\n",
    "    #Number you want to start the square with\n",
    "    top_left = int(input(\"Enter top left number: \"))\n",
    "\n",
    "    #Sets a placeholder for a variable called top_left_init\n",
    "    top_left_init=0\n",
    "\n",
    "    #Sets the initial value of top_left to a new variable because the code will change the value of top left later on \n",
    "    top_left_init += top_left\n",
    "\n",
    "    #Initialize the value of count\n",
    "    count = 0\n",
    "\n",
    "    #Add 1 to the highest value in latin square to account for the range function (the ending number is always one less than the number you enter into the range function)\n",
    "    for values in range (1,order_of_sq+1):\n",
    "\n",
    "        #Prevents the program from adding too many characters to the line\n",
    "        while count != order_of_sq:\n",
    "\n",
    "            #Prints numbers with spaces after them in a horizontal manner\n",
    "            print(top_left,sep=' ',end=' ')\n",
    "\n",
    "            #Adds 1 to the top_left\n",
    "            top_left += 1\n",
    "\n",
    "            #Count is used to keep track of how many characters are in your line\n",
    "            count+=1\n",
    "\n",
    "            #Restarts the numbers in your line when you reach the highest number\n",
    "            if top_left == order_of_sq+1:\n",
    "                top_left = 1\n",
    "\n",
    "        #Creates a new row\n",
    "        print()\n",
    "        count = 0\n",
    "\n",
    "        #Calls the initial value of top_left and adds 1 to it before beginning the next row\n",
    "        top_left_init += 1\n",
    "\n",
    "        #Resets top_left_init to 1 if it reaches the highest number in the square\n",
    "        if top_left_init == order_of_sq + 1:\n",
    "            top_left_init = 1\n",
    "            top_left = top_left_init\n",
    "        else:\n",
    "            top_left = top_left_init"
   ]
  }
 ],
 "metadata": {
  "kernelspec": {
   "display_name": "Python 2",
   "language": "python",
   "name": "python2"
  },
  "language_info": {
   "codemirror_mode": {
    "name": "ipython",
    "version": 2
   },
   "file_extension": ".py",
   "mimetype": "text/x-python",
   "name": "python",
   "nbconvert_exporter": "python",
   "pygments_lexer": "ipython2",
   "version": "2.7.14"
  }
 },
 "nbformat": 4,
 "nbformat_minor": 2
}
