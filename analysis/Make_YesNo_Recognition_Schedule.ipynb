{
 "cells": [
  {
   "cell_type": "code",
   "execution_count": null,
   "metadata": {},
   "outputs": [],
   "source": [
    "directions = [5,15,20,25,35]\n",
    "labels = ['extremeleft','left','middle','right','extremeright']\n",
    "labeldict = dict(zip(directions,labels))\n",
    "n_each = 15"
   ]
  },
  {
   "cell_type": "code",
   "execution_count": null,
   "metadata": {},
   "outputs": [],
   "source": [
    "import random\n",
    "import pandas as pd\n",
    "import numpy as np\n",
    "%pylab inline"
   ]
  },
  {
   "cell_type": "code",
   "execution_count": null,
   "metadata": {},
   "outputs": [],
   "source": []
  },
  {
   "cell_type": "code",
   "execution_count": null,
   "metadata": {},
   "outputs": [],
   "source": [
    "def create_random_design():\n",
    "    dirs = []\n",
    "    lastdir = None\n",
    "    for _ in range(n_each):\n",
    "        acceptable = False\n",
    "        while not acceptable:\n",
    "            d = directions[:]\n",
    "            random.shuffle(d)\n",
    "            acceptable = d[0]!=lastdir\n",
    "        lastdir=d[-1]\n",
    "        dirs+=d\n",
    "    return dirs"
   ]
  },
  {
   "cell_type": "code",
   "execution_count": null,
   "metadata": {},
   "outputs": [],
   "source": [
    "dirs = create_random_design()\n",
    "\" \".join([str(d) for d in dirs ])"
   ]
  },
  {
   "cell_type": "markdown",
   "metadata": {},
   "source": [
    "## What are the carry-over effects?"
   ]
  },
  {
   "cell_type": "code",
   "execution_count": null,
   "metadata": {},
   "outputs": [],
   "source": [
    "def get_transitions(dirs):\n",
    "    # Get the first-order transition matrix\n",
    "    trans = [ (dirs[i],dirs[i+1]) for i in range(len(dirs)-1) ]\n",
    "    n = len(directions)\n",
    "    transcount = np.zeros((n,n))\n",
    "    for (d0,d1) in trans:\n",
    "        d0i = directions.index(d0)\n",
    "        d1i = directions.index(d1)\n",
    "        transcount[d0i,d1i]+=1\n",
    "    return transcount"
   ]
  },
  {
   "cell_type": "code",
   "execution_count": null,
   "metadata": {},
   "outputs": [],
   "source": [
    "transcount = get_transitions(dirs)\n",
    "transcount"
   ]
  },
  {
   "cell_type": "markdown",
   "metadata": {},
   "source": [
    "## Batch-generate schedules and pick the best one\n",
    "Generations of scholars will wonder why on Earth we do this, but hey..."
   ]
  },
  {
   "cell_type": "code",
   "execution_count": null,
   "metadata": {},
   "outputs": [],
   "source": [
    "def badness(mat):\n",
    "    # Tell us how bad this transition matrix is - how unequal are the transitional probability distributions?\n",
    "    \n",
    "    # Compute the average of each row\n",
    "    mat = np.array(mat)\n",
    "    n,_ = mat.shape\n",
    "    # Restrict to the off-diagonal elements \n",
    "    rowvalues = [ vals[sel] for (vals,sel) in zip(mat,(1-np.eye(n)).astype(bool)) ]\n",
    "    \n",
    "    # Compute the deviation of each item from the average for that row\n",
    "    dists = [ [ abs(r-np.mean(row)) for r in row ] for row in rowvalues ]\n",
    "    \n",
    "    return sum(np.array(dists).flatten())"
   ]
  },
  {
   "cell_type": "code",
   "execution_count": null,
   "metadata": {},
   "outputs": [],
   "source": [
    "badness(transcount)"
   ]
  },
  {
   "cell_type": "code",
   "execution_count": null,
   "metadata": {},
   "outputs": [],
   "source": [
    "#design"
   ]
  },
  {
   "cell_type": "code",
   "execution_count": null,
   "metadata": {},
   "outputs": [],
   "source": [
    "N_DESIGNS = 100000\n",
    "designs = []\n",
    "for _ in range(N_DESIGNS):\n",
    "    design = create_random_design()\n",
    "    trans = get_transitions(design)\n",
    "    howbad = badness(trans)\n",
    "    designs.append((design,howbad))"
   ]
  },
  {
   "cell_type": "code",
   "execution_count": null,
   "metadata": {},
   "outputs": [],
   "source": [
    "b = [ bad for _,bad in designs ]"
   ]
  },
  {
   "cell_type": "code",
   "execution_count": null,
   "metadata": {},
   "outputs": [],
   "source": [
    "hist(b)"
   ]
  },
  {
   "cell_type": "code",
   "execution_count": null,
   "metadata": {},
   "outputs": [],
   "source": [
    "best = min(b)\n",
    "print(best)"
   ]
  },
  {
   "cell_type": "code",
   "execution_count": null,
   "metadata": {},
   "outputs": [],
   "source": [
    "chosen,_ = designs[ b.index(best) ]"
   ]
  },
  {
   "cell_type": "code",
   "execution_count": null,
   "metadata": {},
   "outputs": [],
   "source": [
    "#chosen"
   ]
  },
  {
   "cell_type": "code",
   "execution_count": null,
   "metadata": {},
   "outputs": [],
   "source": [
    "trans = get_transitions(chosen)"
   ]
  },
  {
   "cell_type": "code",
   "execution_count": null,
   "metadata": {},
   "outputs": [],
   "source": [
    "trans"
   ]
  },
  {
   "cell_type": "markdown",
   "metadata": {},
   "source": [
    "## Output"
   ]
  },
  {
   "cell_type": "code",
   "execution_count": null,
   "metadata": {},
   "outputs": [],
   "source": [
    "tab = pd.DataFrame({'direction':chosen})\n",
    "tab['type']=[ labeldict[d] for d in chosen ]\n",
    "tab['trial']=np.arange(len(chosen))+1\n",
    "tab.to_csv('recognitionyesno_theOne.csv')"
   ]
  },
  {
   "cell_type": "code",
   "execution_count": null,
   "metadata": {},
   "outputs": [],
   "source": [
    "tab"
   ]
  },
  {
   "cell_type": "markdown",
   "metadata": {},
   "source": [
    "# Doing this the smart way (maybe)"
   ]
  },
  {
   "cell_type": "code",
   "execution_count": null,
   "metadata": {},
   "outputs": [],
   "source": [
    "if False:\n",
    "    #Highest number in square\n",
    "    order_of_sq = int(input(\"Enter order of sq: \"))\n",
    "\n",
    "    #Number you want to start the square with\n",
    "    top_left = int(input(\"Enter top left number: \"))\n",
    "\n",
    "    #Sets a placeholder for a variable called top_left_init\n",
    "    top_left_init=0\n",
    "\n",
    "    #Sets the initial value of top_left to a new variable because the code will change the value of top left later on \n",
    "    top_left_init += top_left\n",
    "\n",
    "    #Initialize the value of count\n",
    "    count = 0\n",
    "\n",
    "    #Add 1 to the highest value in latin square to account for the range function (the ending number is always one less than the number you enter into the range function)\n",
    "    for values in range (1,order_of_sq+1):\n",
    "\n",
    "        #Prevents the program from adding too many characters to the line\n",
    "        while count != order_of_sq:\n",
    "\n",
    "            #Prints numbers with spaces after them in a horizontal manner\n",
    "            print(top_left,sep=' ',end=' ')\n",
    "\n",
    "            #Adds 1 to the top_left\n",
    "            top_left += 1\n",
    "\n",
    "            #Count is used to keep track of how many characters are in your line\n",
    "            count+=1\n",
    "\n",
    "            #Restarts the numbers in your line when you reach the highest number\n",
    "            if top_left == order_of_sq+1:\n",
    "                top_left = 1\n",
    "\n",
    "        #Creates a new row\n",
    "        print()\n",
    "        count = 0\n",
    "\n",
    "        #Calls the initial value of top_left and adds 1 to it before beginning the next row\n",
    "        top_left_init += 1\n",
    "\n",
    "        #Resets top_left_init to 1 if it reaches the highest number in the square\n",
    "        if top_left_init == order_of_sq + 1:\n",
    "            top_left_init = 1\n",
    "            top_left = top_left_init\n",
    "        else:\n",
    "            top_left = top_left_init"
   ]
  },
  {
   "cell_type": "code",
   "execution_count": null,
   "metadata": {},
   "outputs": [],
   "source": []
  }
 ],
 "metadata": {
  "kernelspec": {
   "display_name": "Python 3",
   "language": "python",
   "name": "python3"
  },
  "language_info": {
   "codemirror_mode": {
    "name": "ipython",
    "version": 3
   },
   "file_extension": ".py",
   "mimetype": "text/x-python",
   "name": "python",
   "nbconvert_exporter": "python",
   "pygments_lexer": "ipython3",
   "version": "3.6.8"
  }
 },
 "nbformat": 4,
 "nbformat_minor": 2
}
