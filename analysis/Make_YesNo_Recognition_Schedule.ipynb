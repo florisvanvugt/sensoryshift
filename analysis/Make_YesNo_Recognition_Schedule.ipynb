{
 "cells": [
  {
   "cell_type": "code",
   "execution_count": 1,
   "metadata": {},
   "outputs": [],
   "source": [
    "#directions = [5,15,20,25,35]\n",
    "#labels = ['extremeleft','left','middle','right','extremeright']\n",
    "\n",
    "directions = [0,5,10,15,20,25,30,35]\n",
    "labels = ['baseline','5','10','15','middle','25','30','extremeright']\n",
    "\n",
    "labeldict = dict(zip(directions,labels))\n",
    "n_each = 20 #15"
   ]
  },
  {
   "cell_type": "code",
   "execution_count": 2,
   "metadata": {},
   "outputs": [
    {
     "name": "stdout",
     "output_type": "stream",
     "text": [
      "Populating the interactive namespace from numpy and matplotlib\n"
     ]
    },
    {
     "name": "stderr",
     "output_type": "stream",
     "text": [
      "/anaconda3/lib/python3.6/site-packages/IPython/core/magics/pylab.py:160: UserWarning: pylab import has clobbered these variables: ['random']\n",
      "`%matplotlib` prevents importing * from pylab and numpy\n",
      "  \"\\n`%matplotlib` prevents importing * from pylab and numpy\"\n"
     ]
    }
   ],
   "source": [
    "import random\n",
    "import pandas as pd\n",
    "import numpy as np\n",
    "%pylab inline"
   ]
  },
  {
   "cell_type": "code",
   "execution_count": null,
   "metadata": {},
   "outputs": [],
   "source": []
  },
  {
   "cell_type": "code",
   "execution_count": 3,
   "metadata": {},
   "outputs": [],
   "source": [
    "def create_random_design():\n",
    "    dirs = []\n",
    "    lastdir = None\n",
    "    for _ in range(n_each):\n",
    "        acceptable = False\n",
    "        while not acceptable:\n",
    "            d = directions[:]\n",
    "            random.shuffle(d)\n",
    "            acceptable = d[0]!=lastdir\n",
    "        lastdir=d[-1]\n",
    "        dirs+=d\n",
    "    return dirs"
   ]
  },
  {
   "cell_type": "code",
   "execution_count": 4,
   "metadata": {},
   "outputs": [
    {
     "data": {
      "text/plain": [
       "'20 30 5 15 35 0 25 10 0 15 35 10 20 25 5 30 10 35 20 25 30 15 5 0 25 15 30 0 10 35 5 20 25 30 35 0 15 10 20 5 30 15 0 10 20 25 35 5 10 30 20 0 15 5 35 25 35 10 30 15 0 5 20 25 0 35 5 25 30 15 10 20 35 20 0 15 5 10 25 30 25 35 0 10 30 5 15 20 0 35 25 5 20 15 30 10 20 10 30 25 35 0 5 15 5 20 35 15 10 25 30 0 30 25 5 35 0 10 15 20 25 30 20 35 15 5 0 10 25 0 15 5 10 35 30 20 15 25 35 10 20 0 30 5 20 10 15 0 30 5 35 25 5 10 0 35 20 25 15 30'"
      ]
     },
     "execution_count": 4,
     "metadata": {},
     "output_type": "execute_result"
    }
   ],
   "source": [
    "dirs = create_random_design()\n",
    "\" \".join([str(d) for d in dirs ])"
   ]
  },
  {
   "cell_type": "code",
   "execution_count": 5,
   "metadata": {},
   "outputs": [
    {
     "data": {
      "text/plain": [
       "160"
      ]
     },
     "execution_count": 5,
     "metadata": {},
     "output_type": "execute_result"
    }
   ],
   "source": [
    "len(dirs)"
   ]
  },
  {
   "cell_type": "markdown",
   "metadata": {},
   "source": [
    "## What are the carry-over effects?"
   ]
  },
  {
   "cell_type": "code",
   "execution_count": 6,
   "metadata": {},
   "outputs": [],
   "source": [
    "def get_transitions(dirs):\n",
    "    # Get the first-order transition matrix\n",
    "    trans = [ (dirs[i],dirs[i+1]) for i in range(len(dirs)-1) ]\n",
    "    n = len(directions)\n",
    "    transcount = np.zeros((n,n))\n",
    "    for (d0,d1) in trans:\n",
    "        d0i = directions.index(d0)\n",
    "        d1i = directions.index(d1)\n",
    "        transcount[d0i,d1i]+=1\n",
    "    return transcount"
   ]
  },
  {
   "cell_type": "code",
   "execution_count": 7,
   "metadata": {},
   "outputs": [
    {
     "data": {
      "text/plain": [
       "array([[0., 2., 5., 5., 0., 2., 3., 3.],\n",
       "       [2., 0., 4., 3., 5., 1., 2., 3.],\n",
       "       [2., 0., 0., 2., 6., 3., 4., 3.],\n",
       "       [3., 6., 3., 0., 2., 1., 3., 2.],\n",
       "       [4., 1., 2., 2., 0., 7., 1., 3.],\n",
       "       [2., 4., 1., 2., 0., 0., 6., 5.],\n",
       "       [2., 4., 2., 4., 3., 3., 0., 1.],\n",
       "       [5., 3., 3., 2., 3., 3., 1., 0.]])"
      ]
     },
     "execution_count": 7,
     "metadata": {},
     "output_type": "execute_result"
    }
   ],
   "source": [
    "transcount = get_transitions(dirs)\n",
    "transcount"
   ]
  },
  {
   "cell_type": "markdown",
   "metadata": {},
   "source": [
    "## Batch-generate schedules and pick the best one\n",
    "Generations of scholars will wonder why on Earth we do this, but hey..."
   ]
  },
  {
   "cell_type": "code",
   "execution_count": 8,
   "metadata": {},
   "outputs": [],
   "source": [
    "def badness(mat):\n",
    "    # Tell us how bad this transition matrix is - how unequal are the transitional probability distributions?\n",
    "    \n",
    "    # Compute the average of each row\n",
    "    mat = np.array(mat)\n",
    "    n,_ = mat.shape\n",
    "    # Restrict to the off-diagonal elements \n",
    "    rowvalues = [ vals[sel] for (vals,sel) in zip(mat,(1-np.eye(n)).astype(bool)) ]\n",
    "    \n",
    "    # Compute the deviation of each item from the average for that row\n",
    "    dists = [ [ abs(r-np.mean(row)) for r in row ] for row in rowvalues ]\n",
    "    \n",
    "    return sum(np.array(dists).flatten())"
   ]
  },
  {
   "cell_type": "code",
   "execution_count": 9,
   "metadata": {},
   "outputs": [
    {
     "data": {
      "text/plain": [
       "68.0"
      ]
     },
     "execution_count": 9,
     "metadata": {},
     "output_type": "execute_result"
    }
   ],
   "source": [
    "badness(transcount)"
   ]
  },
  {
   "cell_type": "code",
   "execution_count": 10,
   "metadata": {},
   "outputs": [],
   "source": [
    "class KeepTheBest:\n",
    "\n",
    "    # Class Attribute\n",
    "    badness = Inf\n",
    "    design = None\n",
    "\n",
    "    def consider(self,newbadness,newdesign):\n",
    "        if newbadness<self.badness:\n",
    "            self.badness = newbadness\n",
    "            self.design = newdesign\n",
    "        \n",
    "    def print(self):\n",
    "        print(self.badness)\n",
    "        print(self.design)"
   ]
  },
  {
   "cell_type": "code",
   "execution_count": null,
   "metadata": {
    "deletable": false,
    "editable": false,
    "run_control": {
     "frozen": true
    }
   },
   "outputs": [],
   "source": [
    "#design\n",
    "#from functools import partial\n",
    "\n",
    "keepthebest = KeepTheBest()\n",
    "keepthebest.print()\n",
    "\n",
    "def generate_random(i):\n",
    "    #print(i)\n",
    "    design = create_random_design()\n",
    "    trans = get_transitions(design)\n",
    "    howbad = badness(trans)\n",
    "    keepthebest.consider(howbad,design)\n",
    "    return \n",
    "\n",
    "N_DESIGNS = 1000\n",
    "N_PARALLEL = 3\n",
    "\n",
    "from multiprocessing import Pool, Value, Array\n",
    "\n",
    "\n",
    "t0 = time.time()\n",
    "\n",
    "p = Pool(N_PARALLEL)\n",
    "res = p.map(generate_random, range(N_DESIGNS))\n",
    "\n",
    "print(\"This took {} sec\".format(time.time()-t0))\n",
    "\n",
    "#print(keepthebest)\n",
    "keepthebest.print()"
   ]
  },
  {
   "cell_type": "code",
   "execution_count": null,
   "metadata": {},
   "outputs": [],
   "source": [
    "import multiprocessing\n",
    "import ctypes\n",
    "import numpy as np\n",
    "from IPython.display import display, clear_output\n",
    "\n",
    "N_DESIGNS = 100000000\n",
    "N_PARALLEL = 3\n",
    "\n",
    "shared_array_base = multiprocessing.Array(ctypes.c_double, N_DESIGNS)\n",
    "shared_array = np.ctypeslib.as_array(shared_array_base.get_obj())\n",
    "#shared_array = shared_array.reshape(10, 10)\n",
    "\n",
    "\n",
    "shared_design_base = multiprocessing.Array(ctypes.c_int, n_each*len(directions))\n",
    "shared_design = np.ctypeslib.as_array(shared_design_base.get_obj())\n",
    "\n",
    "bestbad = multiprocessing.Value('d', 999999)\n",
    "\n",
    "\n",
    "def generate_random(i,allbadness=shared_array,bestdesign=shared_design,bestb=bestbad):\n",
    "    #print(i)\n",
    "    design = create_random_design()\n",
    "    trans = get_transitions(design)\n",
    "    howbad = badness(trans)\n",
    "    allbadness[i]=howbad\n",
    "    if howbad<bestb.value:\n",
    "        bestb.value=howbad\n",
    "        for j,v in enumerate(design):\n",
    "            shared_design[j]=v\n",
    "    return \n",
    "\n",
    "# Parallel processing\n",
    "#def my_func(i, def_param=shared_array):\n",
    "#    shared_array[i,:] = i\n",
    "\n",
    "t0 = time.time()\n",
    "\n",
    "pool = multiprocessing.Pool(processes=N_PARALLEL)\n",
    "pool.map(generate_random, range(N_DESIGNS))\n",
    "\n",
    "print(\"This took {} sec\".format(time.time()-t0))\n",
    "\n",
    "#print(shared_array)\n",
    "#bestbad_posthoc = min(shared_array)\n",
    "#print(bestbad_posthoc,bestbad.value)"
   ]
  },
  {
   "cell_type": "code",
   "execution_count": 11,
   "metadata": {},
   "outputs": [],
   "source": [
    "import seaborn as sns"
   ]
  },
  {
   "cell_type": "code",
   "execution_count": 12,
   "metadata": {},
   "outputs": [
    {
     "ename": "NameError",
     "evalue": "name 'shared_array' is not defined",
     "output_type": "error",
     "traceback": [
      "\u001b[0;31m---------------------------------------------------------------------------\u001b[0m",
      "\u001b[0;31mNameError\u001b[0m                                 Traceback (most recent call last)",
      "\u001b[0;32m<ipython-input-12-8a30244dfd33>\u001b[0m in \u001b[0;36m<module>\u001b[0;34m()\u001b[0m\n\u001b[0;32m----> 1\u001b[0;31m \u001b[0msns\u001b[0m\u001b[0;34m.\u001b[0m\u001b[0mdistplot\u001b[0m\u001b[0;34m(\u001b[0m\u001b[0mshared_array\u001b[0m\u001b[0;34m)\u001b[0m\u001b[0;34m\u001b[0m\u001b[0;34m\u001b[0m\u001b[0m\n\u001b[0m\u001b[1;32m      2\u001b[0m \u001b[0maxvline\u001b[0m\u001b[0;34m(\u001b[0m\u001b[0mx\u001b[0m\u001b[0;34m=\u001b[0m\u001b[0mbestbad\u001b[0m\u001b[0;34m.\u001b[0m\u001b[0mvalue\u001b[0m\u001b[0;34m,\u001b[0m\u001b[0mcolor\u001b[0m\u001b[0;34m=\u001b[0m\u001b[0;34m'red'\u001b[0m\u001b[0;34m)\u001b[0m\u001b[0;34m\u001b[0m\u001b[0;34m\u001b[0m\u001b[0m\n\u001b[1;32m      3\u001b[0m \u001b[0msns\u001b[0m\u001b[0;34m.\u001b[0m\u001b[0mdespine\u001b[0m\u001b[0;34m(\u001b[0m\u001b[0moffset\u001b[0m\u001b[0;34m=\u001b[0m\u001b[0;36m5\u001b[0m\u001b[0;34m)\u001b[0m\u001b[0;34m\u001b[0m\u001b[0;34m\u001b[0m\u001b[0m\n\u001b[1;32m      4\u001b[0m \u001b[0mprint\u001b[0m\u001b[0;34m(\u001b[0m\u001b[0mbestbad\u001b[0m\u001b[0;34m.\u001b[0m\u001b[0mvalue\u001b[0m\u001b[0;34m)\u001b[0m\u001b[0;34m\u001b[0m\u001b[0;34m\u001b[0m\u001b[0m\n",
      "\u001b[0;31mNameError\u001b[0m: name 'shared_array' is not defined"
     ]
    }
   ],
   "source": [
    "sns.distplot(shared_array)\n",
    "axvline(x=bestbad.value,color='red')\n",
    "sns.despine(offset=5)\n",
    "print(bestbad.value)"
   ]
  },
  {
   "cell_type": "code",
   "execution_count": null,
   "metadata": {},
   "outputs": [],
   "source": [
    "t0 = time.time()\n",
    "#N_DESIGNS = 100000000\n",
    "N_DESIGNS = 50000\n",
    "#designs = []\n",
    "badnesses = zeros(N_DESIGNS)\n",
    "\n",
    "for i in range(N_DESIGNS):\n",
    "    badnesses[i]=howbad\n",
    "    if howbad<badnessbest:\n",
    "        bestdesign=design\n",
    "        badnessbest=howbad\n"
   ]
  },
  {
   "cell_type": "code",
   "execution_count": null,
   "metadata": {},
   "outputs": [],
   "source": [
    "b = [ bad for _,bad in designs ]"
   ]
  },
  {
   "cell_type": "code",
   "execution_count": null,
   "metadata": {},
   "outputs": [],
   "source": [
    "hist(b)"
   ]
  },
  {
   "cell_type": "code",
   "execution_count": null,
   "metadata": {},
   "outputs": [],
   "source": [
    "best = min(b)\n",
    "print(best)"
   ]
  },
  {
   "cell_type": "code",
   "execution_count": null,
   "metadata": {},
   "outputs": [],
   "source": [
    "chosen,_ = designs[ b.index(best) ]"
   ]
  },
  {
   "cell_type": "code",
   "execution_count": null,
   "metadata": {},
   "outputs": [],
   "source": [
    "trans = get_transitions(chosen)"
   ]
  },
  {
   "cell_type": "code",
   "execution_count": null,
   "metadata": {},
   "outputs": [],
   "source": [
    "trans"
   ]
  },
  {
   "cell_type": "markdown",
   "metadata": {},
   "source": [
    "## Output"
   ]
  },
  {
   "cell_type": "code",
   "execution_count": null,
   "metadata": {},
   "outputs": [],
   "source": [
    "tab = pd.DataFrame({'direction':chosen})\n",
    "tab['type']=[ labeldict[d] for d in chosen ]\n",
    "tab['trial']=np.arange(len(chosen))+1\n",
    "#tab.to_csv('recognitionyesno_theOne.csv')\n",
    "tab.to_csv('recognitionyesno160.csv')"
   ]
  },
  {
   "cell_type": "code",
   "execution_count": null,
   "metadata": {},
   "outputs": [],
   "source": [
    "tab"
   ]
  },
  {
   "cell_type": "markdown",
   "metadata": {},
   "source": [
    "# Doing this the smart way (maybe)"
   ]
  },
  {
   "cell_type": "code",
   "execution_count": null,
   "metadata": {},
   "outputs": [],
   "source": [
    "if True:\n",
    "    #Highest number in square\n",
    "    order_of_sq = int(input(\"Enter order of sq: \"))\n",
    "\n",
    "    #Number you want to start the square with\n",
    "    top_left = int(input(\"Enter top left number: \"))\n",
    "\n",
    "    #Sets a placeholder for a variable called top_left_init\n",
    "    top_left_init=0\n",
    "\n",
    "    #Sets the initial value of top_left to a new variable because the code will change the value of top left later on \n",
    "    top_left_init += top_left\n",
    "\n",
    "    #Initialize the value of count\n",
    "    count = 0\n",
    "\n",
    "    #Add 1 to the highest value in latin square to account for the range function (the ending number is always one less than the number you enter into the range function)\n",
    "    for values in range (1,order_of_sq+1):\n",
    "\n",
    "        #Prevents the program from adding too many characters to the line\n",
    "        while count != order_of_sq:\n",
    "\n",
    "            #Prints numbers with spaces after them in a horizontal manner\n",
    "            print(top_left,sep=' ',end=' ')\n",
    "\n",
    "            #Adds 1 to the top_left\n",
    "            top_left += 1\n",
    "\n",
    "            #Count is used to keep track of how many characters are in your line\n",
    "            count+=1\n",
    "\n",
    "            #Restarts the numbers in your line when you reach the highest number\n",
    "            if top_left == order_of_sq+1:\n",
    "                top_left = 1\n",
    "\n",
    "        #Creates a new row\n",
    "        print()\n",
    "        count = 0\n",
    "\n",
    "        #Calls the initial value of top_left and adds 1 to it before beginning the next row\n",
    "        top_left_init += 1\n",
    "\n",
    "        #Resets top_left_init to 1 if it reaches the highest number in the square\n",
    "        if top_left_init == order_of_sq + 1:\n",
    "            top_left_init = 1\n",
    "            top_left = top_left_init\n",
    "        else:\n",
    "            top_left = top_left_init"
   ]
  },
  {
   "cell_type": "code",
   "execution_count": null,
   "metadata": {},
   "outputs": [],
   "source": []
  }
 ],
 "metadata": {
  "kernelspec": {
   "display_name": "Python 3",
   "language": "python",
   "name": "python3"
  },
  "language_info": {
   "codemirror_mode": {
    "name": "ipython",
    "version": 3
   },
   "file_extension": ".py",
   "mimetype": "text/x-python",
   "name": "python",
   "nbconvert_exporter": "python",
   "pygments_lexer": "ipython3",
   "version": "3.6.8"
  }
 },
 "nbformat": 4,
 "nbformat_minor": 2
}
