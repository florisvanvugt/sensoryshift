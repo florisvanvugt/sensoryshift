{
 "cells": [
  {
   "cell_type": "code",
   "execution_count": null,
   "metadata": {},
   "outputs": [],
   "source": [
    "#directions = [5,15,20,25,35]\n",
    "#labels = ['extremeleft','left','middle','right','extremeright']\n",
    "\n",
    "directions = [0,5,10,15,20,25,30,35]\n",
    "N = len(directions)\n",
    "labels = ['baseline','5','10','15','middle','25','30','extremeright']\n",
    "\n",
    "labeldict = dict(zip(directions,labels))\n",
    "n_each = 20 #15"
   ]
  },
  {
   "cell_type": "code",
   "execution_count": null,
   "metadata": {},
   "outputs": [],
   "source": [
    "%pylab inline\n",
    "import random\n",
    "import pandas as pd\n",
    "import numpy as np\n",
    "import time\n",
    "import multiprocessing\n",
    "import ctypes\n",
    "import numpy as np\n",
    "from IPython.display import display, clear_output\n",
    "import seaborn as sns\n",
    "import os"
   ]
  },
  {
   "cell_type": "code",
   "execution_count": null,
   "metadata": {},
   "outputs": [],
   "source": [
    "def create_random_design():\n",
    "    dirs = []\n",
    "    lastdir = None\n",
    "    for _ in range(n_each):\n",
    "        acceptable = False\n",
    "        while not acceptable:\n",
    "            d = range(N) #directions[:]\n",
    "            random.shuffle(d)\n",
    "            acceptable = d[0]!=lastdir\n",
    "        lastdir=d[-1]\n",
    "        dirs+=d\n",
    "    return dirs"
   ]
  },
  {
   "cell_type": "code",
   "execution_count": null,
   "metadata": {},
   "outputs": [],
   "source": [
    "dirs = create_random_design()\n",
    "\" \".join([str(directions[d]) for d in dirs ])"
   ]
  },
  {
   "cell_type": "code",
   "execution_count": null,
   "metadata": {},
   "outputs": [],
   "source": [
    "len(dirs)"
   ]
  },
  {
   "cell_type": "markdown",
   "metadata": {},
   "source": [
    "## What are the carry-over effects?"
   ]
  },
  {
   "cell_type": "code",
   "execution_count": null,
   "metadata": {},
   "outputs": [],
   "source": [
    "def get_transitions(dirs):\n",
    "    # Get the first-order transition matrix\n",
    "    trans = [ (dirs[i],dirs[i+1]) for i in range(len(dirs)-1) ]\n",
    "    #n = len(directions)\n",
    "    transcount = np.zeros((N,N))\n",
    "    for i in range(len(dirs)-1):\n",
    "        transcount[dirs[i],dirs[i+1]]+=1\n",
    "    return transcount"
   ]
  },
  {
   "cell_type": "code",
   "execution_count": null,
   "metadata": {},
   "outputs": [],
   "source": [
    "transcount = get_transitions(dirs)\n",
    "transcount"
   ]
  },
  {
   "cell_type": "code",
   "execution_count": null,
   "metadata": {},
   "outputs": [],
   "source": [
    "imshow(transcount)"
   ]
  },
  {
   "cell_type": "code",
   "execution_count": null,
   "metadata": {},
   "outputs": [],
   "source": [
    "#sum(transcount,0)"
   ]
  },
  {
   "cell_type": "code",
   "execution_count": null,
   "metadata": {},
   "outputs": [],
   "source": [
    "20./7"
   ]
  },
  {
   "cell_type": "code",
   "execution_count": null,
   "metadata": {},
   "outputs": [],
   "source": [
    "3*6+1*2"
   ]
  },
  {
   "cell_type": "markdown",
   "metadata": {},
   "source": [
    "## Batch-generate schedules and pick the best one\n",
    "Generations of scholars will wonder why on Earth we do this, but hey..."
   ]
  },
  {
   "cell_type": "code",
   "execution_count": null,
   "metadata": {},
   "outputs": [],
   "source": [
    "def badness(mat):\n",
    "    # Tell us how bad this transition matrix is - how unequal are the transitional probability distributions?\n",
    "    \n",
    "    # Compute the average of each row\n",
    "    mat = np.array(mat)\n",
    "    n,_ = mat.shape\n",
    "    # Restrict to the off-diagonal elements \n",
    "    rowvalues = [ vals[sel] for (vals,sel) in zip(mat,(1-np.eye(n)).astype(bool)) ]\n",
    "    \n",
    "    # Compute the deviation of each item from the average for that row\n",
    "    dists = [ [ abs(r-np.mean(row)) for r in row ] for row in rowvalues ]\n",
    "    \n",
    "    return sum(np.array(dists).flatten())"
   ]
  },
  {
   "cell_type": "code",
   "execution_count": null,
   "metadata": {},
   "outputs": [],
   "source": [
    "badness(transcount)"
   ]
  },
  {
   "cell_type": "code",
   "execution_count": null,
   "metadata": {},
   "outputs": [],
   "source": [
    "#N_DESIGNS = 1000000 # Neeraj wanted 100000000\n",
    "N_DESIGNS = 100000000\n",
    "N_PARALLEL = 28\n",
    "\n",
    "# Distribution of badnesses\n",
    "shared_array_base = multiprocessing.Array(ctypes.c_double, N_DESIGNS)\n",
    "shared_array = np.ctypeslib.as_array(shared_array_base.get_obj())\n",
    "#shared_array = shared_array.reshape(10, 10)\n",
    "\n",
    "# Best the design\n",
    "shared_design_base = multiprocessing.Array(ctypes.c_int, n_each*len(directions))\n",
    "shared_design = np.ctypeslib.as_array(shared_design_base.get_obj())\n",
    "\n",
    "bestbad = multiprocessing.Value('d', 999999)\n",
    "\n",
    "\n",
    "def generate_random(i,allbadness=shared_array,bestdesign=shared_design,bestb=bestbad):\n",
    "    #print(i)\n",
    "    design = create_random_design()\n",
    "    trans = get_transitions(design)\n",
    "    howbad = badness(trans)\n",
    "    allbadness[i]=howbad\n",
    "    if howbad<bestb.value:\n",
    "        bestb.value=howbad\n",
    "        for j,v in enumerate(design):\n",
    "            shared_design[j]=v\n",
    "    if i%100000==0:\n",
    "        print(\"{} best {}\".format(i,bestbad.value))\n",
    "    return \n",
    "\n",
    "# Parallel processing\n",
    "#def my_func(i, def_param=shared_array):\n",
    "#    shared_array[i,:] = i\n",
    "\n",
    "t0 = time.time()\n",
    "\n",
    "pool = multiprocessing.Pool(processes=N_PARALLEL)\n",
    "pool.map(generate_random, range(N_DESIGNS))\n",
    "\n",
    "tsec = (time.time()-t0)\n",
    "tdur = tsec/(60*60)\n",
    "\n",
    "print(\"This took {} seconds i.e. {} hours for {} designs\".format(tsec,tdur,N_DESIGNS))\n",
    "targetdes = 100000000\n",
    "print(\"At this rate {} will take {} hours.\".format(targetdes,targetdes*tdur/N_DESIGNS))\n",
    "\n",
    "#print(shared_array)\n",
    "#bestbad_posthoc = min(shared_array)\n",
    "#print(bestbad_posthoc,bestbad.value)"
   ]
  },
  {
   "cell_type": "code",
   "execution_count": null,
   "metadata": {},
   "outputs": [],
   "source": [
    "sns.distplot(shared_array[:1000000])\n",
    "axvline(x=bestbad.value,color='red')\n",
    "sns.despine(offset=5)\n",
    "print(bestbad.value)"
   ]
  },
  {
   "cell_type": "code",
   "execution_count": null,
   "metadata": {},
   "outputs": [],
   "source": [
    "dirs = list(shared_design)"
   ]
  },
  {
   "cell_type": "code",
   "execution_count": null,
   "metadata": {},
   "outputs": [],
   "source": [
    "transcount = get_transitions(dirs)\n",
    "transcount"
   ]
  },
  {
   "cell_type": "code",
   "execution_count": null,
   "metadata": {},
   "outputs": [],
   "source": [
    "imshow(transcount)"
   ]
  },
  {
   "cell_type": "code",
   "execution_count": null,
   "metadata": {},
   "outputs": [],
   "source": [
    "# Let's save the history\n",
    "import pickle\n",
    "PICKLE_F = 'history.pickle'\n",
    "if os.path.exists(PICKLE_F):\n",
    "    history = pickle.load(open(PICKLE_F,'rb'))\n",
    "else:\n",
    "    history = []\n",
    "history.append({\"best_design\":list(shared_design)})\n",
    "pickle.dump(history,open(PICKLE_F,'wb'))"
   ]
  },
  {
   "cell_type": "markdown",
   "metadata": {},
   "source": [
    "## Output"
   ]
  },
  {
   "cell_type": "code",
   "execution_count": null,
   "metadata": {},
   "outputs": [],
   "source": [
    "chosen = [ directions[d] for d in shared_design ]\n",
    "' '.join([str(s) for s in chosen])"
   ]
  },
  {
   "cell_type": "code",
   "execution_count": null,
   "metadata": {},
   "outputs": [],
   "source": [
    "tab = pd.DataFrame({'direction':chosen})\n",
    "tab['type']=[ labeldict[d] for d in chosen ]\n",
    "tab['trial']=np.arange(len(chosen))+1\n",
    "#tab.to_csv('recognitionyesno_theOne.csv')\n",
    "tab.to_csv('recognitionyesno160.csv')"
   ]
  },
  {
   "cell_type": "code",
   "execution_count": null,
   "metadata": {},
   "outputs": [],
   "source": [
    "tab"
   ]
  },
  {
   "cell_type": "markdown",
   "metadata": {},
   "source": [
    "# Doing this the smart way (maybe)"
   ]
  },
  {
   "cell_type": "code",
   "execution_count": null,
   "metadata": {},
   "outputs": [],
   "source": [
    "if True:\n",
    "    #Highest number in square\n",
    "    order_of_sq = int(input(\"Enter order of sq: \"))\n",
    "\n",
    "    #Number you want to start the square with\n",
    "    top_left = int(input(\"Enter top left number: \"))\n",
    "\n",
    "    #Sets a placeholder for a variable called top_left_init\n",
    "    top_left_init=0\n",
    "\n",
    "    #Sets the initial value of top_left to a new variable because the code will change the value of top left later on \n",
    "    top_left_init += top_left\n",
    "\n",
    "    #Initialize the value of count\n",
    "    count = 0\n",
    "\n",
    "    #Add 1 to the highest value in latin square to account for the range function (the ending number is always one less than the number you enter into the range function)\n",
    "    for values in range (1,order_of_sq+1):\n",
    "\n",
    "        #Prevents the program from adding too many characters to the line\n",
    "        while count != order_of_sq:\n",
    "\n",
    "            #Prints numbers with spaces after them in a horizontal manner\n",
    "            print(top_left,sep=' ',end=' ')\n",
    "\n",
    "            #Adds 1 to the top_left\n",
    "            top_left += 1\n",
    "\n",
    "            #Count is used to keep track of how many characters are in your line\n",
    "            count+=1\n",
    "\n",
    "            #Restarts the numbers in your line when you reach the highest number\n",
    "            if top_left == order_of_sq+1:\n",
    "                top_left = 1\n",
    "\n",
    "        #Creates a new row\n",
    "        print()\n",
    "        count = 0\n",
    "\n",
    "        #Calls the initial value of top_left and adds 1 to it before beginning the next row\n",
    "        top_left_init += 1\n",
    "\n",
    "        #Resets top_left_init to 1 if it reaches the highest number in the square\n",
    "        if top_left_init == order_of_sq + 1:\n",
    "            top_left_init = 1\n",
    "            top_left = top_left_init\n",
    "        else:\n",
    "            top_left = top_left_init"
   ]
  },
  {
   "cell_type": "code",
   "execution_count": null,
   "metadata": {},
   "outputs": [],
   "source": []
  }
 ],
 "metadata": {
  "kernelspec": {
   "display_name": "Python 2",
   "language": "python",
   "name": "python2"
  },
  "language_info": {
   "codemirror_mode": {
    "name": "ipython",
    "version": 2
   },
   "file_extension": ".py",
   "mimetype": "text/x-python",
   "name": "python",
   "nbconvert_exporter": "python",
   "pygments_lexer": "ipython2",
   "version": "2.7.14"
  }
 },
 "nbformat": 4,
 "nbformat_minor": 2
}
