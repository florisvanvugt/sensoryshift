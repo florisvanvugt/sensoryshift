{
 "cells": [
  {
   "cell_type": "code",
   "execution_count": null,
   "metadata": {},
   "outputs": [],
   "source": [
    "#directions = [5,15,20,25,35]\n",
    "#labels = ['extremeleft','left','middle','right','extremeright']\n",
    "\n",
    "directions = [0,5,10,15,20,25,30,35]\n",
    "N = len(directions)\n",
    "#labels = ['baseline','5','10','15','middle','25','30','extremeright']\n",
    "#labeldict = dict(zip(directions,labels))\n",
    "\n",
    "n_each = 20 #15"
   ]
  },
  {
   "cell_type": "code",
   "execution_count": null,
   "metadata": {},
   "outputs": [],
   "source": [
    "N_PARALLEL = 28 # for parallel processing, how many cores can we use"
   ]
  },
  {
   "cell_type": "code",
   "execution_count": null,
   "metadata": {},
   "outputs": [],
   "source": [
    "%pylab inline\n",
    "import random\n",
    "import pandas as pd\n",
    "import numpy as np\n",
    "import time\n",
    "import multiprocessing\n",
    "import ctypes\n",
    "import numpy as np\n",
    "from IPython.display import display, clear_output\n",
    "import seaborn as sns\n",
    "import os"
   ]
  },
  {
   "cell_type": "code",
   "execution_count": null,
   "metadata": {},
   "outputs": [],
   "source": [
    "def create_random_design():\n",
    "    dirs = []\n",
    "    lastdir = None\n",
    "    for _ in range(n_each):\n",
    "        acceptable = False\n",
    "        while not acceptable:\n",
    "            d = list(range(N)) #directions[:]\n",
    "            random.shuffle(d)\n",
    "            acceptable = d[0]!=lastdir\n",
    "        lastdir=d[-1]\n",
    "        dirs+=d\n",
    "    return dirs"
   ]
  },
  {
   "cell_type": "code",
   "execution_count": null,
   "metadata": {},
   "outputs": [],
   "source": [
    "dirs = create_random_design()\n",
    "\" \".join([str(directions[d]) for d in dirs ])"
   ]
  },
  {
   "cell_type": "code",
   "execution_count": null,
   "metadata": {},
   "outputs": [],
   "source": [
    "len(dirs)"
   ]
  },
  {
   "cell_type": "markdown",
   "metadata": {},
   "source": [
    "## What are the carry-over effects?"
   ]
  },
  {
   "cell_type": "code",
   "execution_count": null,
   "metadata": {},
   "outputs": [],
   "source": [
    "def get_transitions(dirs):\n",
    "    # Get the first-order transition matrix\n",
    "    trans = [ (dirs[i],dirs[i+1]) for i in range(len(dirs)-1) ]\n",
    "    #n = len(directions)\n",
    "    transcount = np.zeros((N,N))\n",
    "    for i in range(len(dirs)-1):\n",
    "        transcount[dirs[i],dirs[i+1]]+=1\n",
    "    return transcount"
   ]
  },
  {
   "cell_type": "code",
   "execution_count": null,
   "metadata": {},
   "outputs": [],
   "source": [
    "transcount = get_transitions(dirs)\n",
    "transcount"
   ]
  },
  {
   "cell_type": "code",
   "execution_count": null,
   "metadata": {},
   "outputs": [],
   "source": [
    "imshow(transcount)"
   ]
  },
  {
   "cell_type": "code",
   "execution_count": null,
   "metadata": {},
   "outputs": [],
   "source": [
    "sum(transcount,0)"
   ]
  },
  {
   "cell_type": "code",
   "execution_count": null,
   "metadata": {},
   "outputs": [],
   "source": [
    "#sum(transcount,0)"
   ]
  },
  {
   "cell_type": "code",
   "execution_count": null,
   "metadata": {},
   "outputs": [],
   "source": [
    "20./7"
   ]
  },
  {
   "cell_type": "code",
   "execution_count": null,
   "metadata": {},
   "outputs": [],
   "source": [
    "3*6+1*2"
   ]
  },
  {
   "cell_type": "markdown",
   "metadata": {},
   "source": [
    "## Batch-generate schedules and pick the best one\n",
    "Generations of scholars will wonder why on Earth we do this, but hey..."
   ]
  },
  {
   "cell_type": "code",
   "execution_count": null,
   "metadata": {},
   "outputs": [],
   "source": [
    "def badness(mat):\n",
    "    # Tell us how bad this transition matrix is - how unequal are the transitional probability distributions?\n",
    "    \n",
    "    # Compute the average of each row\n",
    "    mat = np.array(mat)\n",
    "    n,_ = mat.shape\n",
    "    # Restrict to the off-diagonal elements \n",
    "    rowvalues = [ vals[sel] for (vals,sel) in zip(mat,(1-np.eye(n)).astype(bool)) ]\n",
    "    \n",
    "    # Compute the deviation of each item from the average for that row\n",
    "    dists = [ [ abs(r-np.mean(row)) for r in row ] for row in rowvalues ]\n",
    "    \n",
    "    return sum(np.array(dists).flatten())"
   ]
  },
  {
   "cell_type": "code",
   "execution_count": null,
   "metadata": {},
   "outputs": [],
   "source": [
    "badness(transcount)"
   ]
  },
  {
   "cell_type": "markdown",
   "metadata": {},
   "source": [
    "### What is the best badness we can expect?"
   ]
  },
  {
   "cell_type": "code",
   "execution_count": null,
   "metadata": {},
   "outputs": [],
   "source": [
    "theo = 3*(ones((N,N))*(1-eye(N)))\n",
    "for i in range(N):\n",
    "    if i==3:\n",
    "        theo[i,4]=2\n",
    "        theo[i,2]=2\n",
    "    else:\n",
    "        theo[i,3]=2"
   ]
  },
  {
   "cell_type": "code",
   "execution_count": null,
   "metadata": {},
   "outputs": [],
   "source": [
    "theo"
   ]
  },
  {
   "cell_type": "code",
   "execution_count": null,
   "metadata": {},
   "outputs": [],
   "source": [
    "#sum(theo)"
   ]
  },
  {
   "cell_type": "code",
   "execution_count": null,
   "metadata": {},
   "outputs": [],
   "source": [
    "imshow(theo)"
   ]
  },
  {
   "cell_type": "code",
   "execution_count": null,
   "metadata": {},
   "outputs": [],
   "source": [
    "sum(theo,1)"
   ]
  },
  {
   "cell_type": "code",
   "execution_count": null,
   "metadata": {},
   "outputs": [],
   "source": [
    "LOWEST = badness(theo)\n",
    "LOWEST"
   ]
  },
  {
   "cell_type": "code",
   "execution_count": null,
   "metadata": {},
   "outputs": [],
   "source": [
    "#N_DESIGNS = 1000000 # Neeraj wanted 100000000\n",
    "N_DESIGNS = 10000\n",
    "\n",
    "# Distribution of badnesses\n",
    "shared_array_base = multiprocessing.Array(ctypes.c_double, N_DESIGNS)\n",
    "shared_array = np.ctypeslib.as_array(shared_array_base.get_obj())\n",
    "#shared_array = shared_array.reshape(10, 10)\n",
    "\n",
    "# Best the design\n",
    "shared_design_base = multiprocessing.Array(ctypes.c_int, n_each*len(directions))\n",
    "shared_design = np.ctypeslib.as_array(shared_design_base.get_obj())\n",
    "\n",
    "bestbad = multiprocessing.Value('d', 999999)\n",
    "\n",
    "\n",
    "def generate_random(i,allbadness=shared_array,bestdesign=shared_design,bestb=bestbad):\n",
    "    #print(i)\n",
    "    design = create_random_design()\n",
    "    trans = get_transitions(design)\n",
    "    howbad = badness(trans)\n",
    "    allbadness[i]=howbad\n",
    "    if howbad<bestb.value:\n",
    "        bestb.value=howbad\n",
    "        for j,v in enumerate(design):\n",
    "            shared_design[j]=v\n",
    "    if i%100000==0:\n",
    "        print(\"{} best {}\".format(i,bestbad.value))\n",
    "    return \n",
    "\n",
    "# Parallel processing\n",
    "#def my_func(i, def_param=shared_array):\n",
    "#    shared_array[i,:] = i\n",
    "\n",
    "t0 = time.time()\n",
    "\n",
    "pool = multiprocessing.Pool(processes=N_PARALLEL)\n",
    "pool.map(generate_random, range(N_DESIGNS))\n",
    "\n",
    "tsec = (time.time()-t0)\n",
    "tdur = tsec/(60*60)\n",
    "\n",
    "print(\"This took {} seconds i.e. {} hours for {} designs\".format(tsec,tdur,N_DESIGNS))\n",
    "targetdes = 100000000\n",
    "print(\"At this rate {} will take {} hours.\".format(targetdes,targetdes*tdur/N_DESIGNS))\n",
    "\n",
    "#print(shared_array)\n",
    "#bestbad_posthoc = min(shared_array)\n",
    "#print(bestbad_posthoc,bestbad.value)"
   ]
  },
  {
   "cell_type": "code",
   "execution_count": null,
   "metadata": {},
   "outputs": [],
   "source": [
    "sns.distplot(shared_array[:1000000])\n",
    "axvline(x=bestbad.value,color='red')\n",
    "axvline(x=LOWEST,color='green')\n",
    "sns.despine(offset=5)\n",
    "print(bestbad.value)\n"
   ]
  },
  {
   "cell_type": "code",
   "execution_count": null,
   "metadata": {},
   "outputs": [],
   "source": [
    "dirs = list(shared_design)"
   ]
  },
  {
   "cell_type": "code",
   "execution_count": null,
   "metadata": {},
   "outputs": [],
   "source": [
    "transcount = get_transitions(dirs)\n",
    "transcount"
   ]
  },
  {
   "cell_type": "code",
   "execution_count": null,
   "metadata": {},
   "outputs": [],
   "source": [
    "imshow(transcount)"
   ]
  },
  {
   "cell_type": "code",
   "execution_count": null,
   "metadata": {},
   "outputs": [],
   "source": [
    "# Let's save the history\n",
    "import pickle\n",
    "PICKLE_F = 'history.pickle'\n",
    "if os.path.exists(PICKLE_F):\n",
    "    history = pickle.load(open(PICKLE_F,'rb'))\n",
    "else:\n",
    "    history = []\n",
    "history.append({\"source\":\"bruteforce\",\"best_design\":list(shared_design)})\n",
    "pickle.dump(history,open(PICKLE_F,'wb'))"
   ]
  },
  {
   "cell_type": "markdown",
   "metadata": {},
   "source": [
    "Find the best design from the history..."
   ]
  },
  {
   "cell_type": "markdown",
   "metadata": {},
   "source": [
    "# Making sub-designs combining them into larger ones"
   ]
  },
  {
   "cell_type": "markdown",
   "metadata": {},
   "source": [
    "So the idea here is to create smaller designs that hopefully will be pretty good and then combining them into larger designs, hoping that those are good too!"
   ]
  },
  {
   "cell_type": "code",
   "execution_count": null,
   "metadata": {},
   "outputs": [],
   "source": [
    "SUBSIZE  = 10 # instead of N_EACH, we make smaller designs of SUBSIZE * directions which we try to optimize\n",
    "N_SEARCH = 1000000 # create a whole lot of random small sub designs\n",
    "#N_SEARCH = 1000\n",
    "N_PICK   = 1000 # subset of the best of the N_SEARCH designs from which we start making our MASTER design"
   ]
  },
  {
   "cell_type": "code",
   "execution_count": null,
   "metadata": {},
   "outputs": [],
   "source": [
    "assert n_each%SUBSIZE==0"
   ]
  },
  {
   "cell_type": "code",
   "execution_count": null,
   "metadata": {},
   "outputs": [],
   "source": [
    "MINI_SIZE = SUBSIZE*len(directions) # how big a mini design is"
   ]
  },
  {
   "cell_type": "markdown",
   "metadata": {},
   "source": [
    "## STEP 1: GENERATE N_PICK DESIGNS"
   ]
  },
  {
   "cell_type": "markdown",
   "metadata": {},
   "source": [
    "If we want to save all generated designs, we need `N_SEARCH * SUBSIZE * directions` array. That's too much, and we need to go through them anyway afterwards."
   ]
  },
  {
   "cell_type": "code",
   "execution_count": null,
   "metadata": {
    "scrolled": true
   },
   "outputs": [],
   "source": [
    "t0 = time.time()\n",
    "\n",
    "# Best the design\n",
    "ALLDESIGNSSIZE = N_PICK*MINI_SIZE\n",
    "minidesigns_base = multiprocessing.Array(ctypes.c_int, ALLDESIGNSSIZE)\n",
    "minidesigns = np.ctypeslib.as_array(minidesigns_base.get_obj())\n",
    "\n",
    "\n",
    "def create_random_minidesign():\n",
    "    dirs = []\n",
    "    lastdir = None\n",
    "    for _ in range(SUBSIZE):\n",
    "        acceptable = False\n",
    "        while not acceptable:\n",
    "            d = list(range(N)) #directions[:]\n",
    "            random.shuffle(d)\n",
    "            acceptable = d[0]!=lastdir\n",
    "        lastdir=d[-1]\n",
    "        dirs+=d\n",
    "    return dirs\n",
    "\n",
    "\n",
    "\n",
    "def generate_random_static(i,minidesigns=minidesigns):\n",
    "    current_bad = 99999\n",
    "    current_design = None\n",
    "\n",
    "    print(\"Iteration {}\".format(i))\n",
    "    \n",
    "    for n in range(N_SEARCH):\n",
    "        design = create_random_minidesign()\n",
    "        trans = get_transitions(design)\n",
    "        howbad = badness(trans)\n",
    "        if howbad<current_bad:\n",
    "            current_bad=howbad\n",
    "            current_design = design[:]\n",
    "    #print(current_design)\n",
    "    \n",
    "    # The result of this function is a \"good\" mini-design\n",
    "    # Insert it into the current list of minidesigns\n",
    "    x = i*MINI_SIZE\n",
    "    for j,d in enumerate(current_design):\n",
    "        minidesigns[x+j]=d\n",
    "        \n",
    "    return\n",
    "\n",
    "\n",
    "pool = multiprocessing.Pool(processes=N_PARALLEL)\n",
    "pool.map(generate_random_static, range(N_PICK))\n",
    "#pool.map(generate_random_static, range(2))\n",
    "            \n",
    "tsec = (time.time()-t0)\n",
    "tdur = tsec/(60*60)\n",
    "\n",
    "print(\"This took {} seconds i.e. {} hours\".format(tsec,tdur))"
   ]
  },
  {
   "cell_type": "code",
   "execution_count": null,
   "metadata": {},
   "outputs": [],
   "source": [
    "minidesigns = minidesigns.reshape( (N_PICK,MINI_SIZE) )"
   ]
  },
  {
   "cell_type": "code",
   "execution_count": null,
   "metadata": {},
   "outputs": [],
   "source": [
    "imshow(minidesigns)"
   ]
  },
  {
   "cell_type": "code",
   "execution_count": null,
   "metadata": {},
   "outputs": [],
   "source": [
    "minidesigns = [ list(minidesigns[i,:]) for i in range(N_PICK) ]"
   ]
  },
  {
   "cell_type": "code",
   "execution_count": null,
   "metadata": {},
   "outputs": [],
   "source": [
    "def design_to_badness(d):\n",
    "    if sum(d)==0: return 99999\n",
    "    transcount = get_transitions(d)\n",
    "    return badness(transcount)"
   ]
  },
  {
   "cell_type": "code",
   "execution_count": null,
   "metadata": {},
   "outputs": [],
   "source": [
    "minibad = [ design_to_badness(md) for md in minidesigns ]\n",
    "\n",
    "sns.distplot(minibad)\n",
    "#axvline(x=bigbestbadness,color='red')\n",
    "#axvline(x=LOWEST,color='green')\n",
    "sns.despine(offset=5)\n",
    "print(bestbad.value)\n"
   ]
  },
  {
   "cell_type": "code",
   "execution_count": null,
   "metadata": {},
   "outputs": [],
   "source": [
    "#minidesigns\n",
    "if False:\n",
    "    pickle.dump(minidesigns,open('minidesigns.pickle','wb'))"
   ]
  },
  {
   "cell_type": "markdown",
   "metadata": {},
   "source": [
    "## STEP 2: COMBINE CHILDREN TO MAKE MASTER DESIGN"
   ]
  },
  {
   "cell_type": "code",
   "execution_count": null,
   "metadata": {},
   "outputs": [],
   "source": [
    "matrix(minidesigns)\n",
    "imshow(minidesigns)"
   ]
  },
  {
   "cell_type": "code",
   "execution_count": null,
   "metadata": {},
   "outputs": [],
   "source": [
    "#minidesigns[0]'Iteration 532 badness 28.5714285714'"
   ]
  },
  {
   "cell_type": "code",
   "execution_count": null,
   "metadata": {},
   "outputs": [],
   "source": [
    "def create_master_design():\n",
    "    # randomly create master design from the children\n",
    "    # but check that the edges align, i.e. that we don't create\n",
    "    # transitions from a particular direction to itself\n",
    "    \n",
    "    des = []\n",
    "    while len(des)<n_each*len(directions):\n",
    "        \n",
    "        # concatenate another design\n",
    "        mini = random.choice(minidesigns)\n",
    "        \n",
    "        # can we actually append this?\n",
    "        if len(des) and des[-1]==mini[0]:\n",
    "            continue # we cannot append this!\n",
    "        \n",
    "        des += mini\n",
    "\n",
    "    return des"
   ]
  },
  {
   "cell_type": "code",
   "execution_count": null,
   "metadata": {},
   "outputs": [],
   "source": [
    "#minidesigns[1]"
   ]
  },
  {
   "cell_type": "code",
   "execution_count": null,
   "metadata": {},
   "outputs": [],
   "source": [
    "m = create_master_design()"
   ]
  },
  {
   "cell_type": "code",
   "execution_count": null,
   "metadata": {},
   "outputs": [],
   "source": [
    "len(m)"
   ]
  },
  {
   "cell_type": "code",
   "execution_count": null,
   "metadata": {},
   "outputs": [],
   "source": [
    "#t = get_transitions(m)[3., 3., 4., 2., 2., 2., 0., 4.],"
   ]
  },
  {
   "cell_type": "code",
   "execution_count": null,
   "metadata": {},
   "outputs": [],
   "source": [
    "#badness(t)"
   ]
  },
  {
   "cell_type": "code",
   "execution_count": null,
   "metadata": {},
   "outputs": [],
   "source": [
    "N_MONTE_CARLO = 1000000\n",
    "\n",
    "bestmaster = None\n",
    "bestmasterbad = 99999\n",
    "\n",
    "graphbest = zeros(N_MONTE_CARLO)\n",
    "\n",
    "for i in range(N_MONTE_CARLO):\n",
    "    \n",
    "    master = create_master_design() # create a master design (concat)\n",
    "    \n",
    "    # determine badness of master\n",
    "    howbad = design_to_badness(master)\n",
    "    \n",
    "    # if better than before, keep it as best\n",
    "    if howbad<bestmasterbad:\n",
    "        bestmaster = master[:]\n",
    "        bestmasterbad = howbad\n",
    "\n",
    "    if i%100==0:\n",
    "        clear_output(wait=True)\n",
    "        display('Iteration {} badness {}'.format(i,bestmasterbad))\n",
    "    \n",
    "    graphbest[i]= bestmasterbad"
   ]
  },
  {
   "cell_type": "code",
   "execution_count": null,
   "metadata": {},
   "outputs": [],
   "source": [
    "plot(graphbest)"
   ]
  },
  {
   "cell_type": "code",
   "execution_count": null,
   "metadata": {},
   "outputs": [],
   "source": [
    "\" \".join([ str(s) for s in bestmaster])"
   ]
  },
  {
   "cell_type": "code",
   "execution_count": null,
   "metadata": {},
   "outputs": [],
   "source": [
    "trans = get_transitions(bestmaster)\n",
    "trans"
   ]
  },
  {
   "cell_type": "code",
   "execution_count": null,
   "metadata": {},
   "outputs": [],
   "source": [
    "imshow(trans)"
   ]
  },
  {
   "cell_type": "code",
   "execution_count": null,
   "metadata": {},
   "outputs": [],
   "source": [
    "sns.distplot(shared_array[:1000000])\n",
    "#axvline(x=bigbestbadness,color='red')\n",
    "axvline(x=bestmasterbad,color='purple')\n",
    "axvline(x=LOWEST,color='green')\n",
    "sns.despine(offset=5)\n",
    "#print(bestbad.value)"
   ]
  },
  {
   "cell_type": "code",
   "execution_count": null,
   "metadata": {},
   "outputs": [],
   "source": [
    "# Let's save the history\n",
    "import pickle\n",
    "PICKLE_F = 'history.pickle'\n",
    "if os.path.exists(PICKLE_F):\n",
    "    history = pickle.load(open(PICKLE_F,'rb'))\n",
    "else:\n",
    "    history = []\n",
    "history.append({\"minidesigns\":minidesigns,\"SUBSIZE\":SUBSIZE,\"N_SEARCH\":N_SEARCH,\"N_PICK\":N_PICK,\"source\":\"recombine_smaller\",\"best_design\":list(bestmaster)})\n",
    "pickle.dump(history,open(PICKLE_F,'wb'))"
   ]
  },
  {
   "cell_type": "markdown",
   "metadata": {},
   "source": [
    "# The whole history & Output\n",
    "What is the best thing we have found using any method?"
   ]
  },
  {
   "cell_type": "code",
   "execution_count": null,
   "metadata": {},
   "outputs": [],
   "source": [
    "print(\"{} candidates in history\".format(len(history)))"
   ]
  },
  {
   "cell_type": "code",
   "execution_count": null,
   "metadata": {},
   "outputs": [],
   "source": [
    "#design_to_badness(h['best_design'])"
   ]
  },
  {
   "cell_type": "code",
   "execution_count": null,
   "metadata": {},
   "outputs": [],
   "source": [
    "for h in history:\n",
    "    h['badness']= design_to_badness(h['best_design'])\n",
    "history = sorted(history, \n",
    "                 key = lambda x: x['badness'])"
   ]
  },
  {
   "cell_type": "code",
   "execution_count": null,
   "metadata": {},
   "outputs": [],
   "source": [
    "#history\n",
    "bigbest = history[0]['best_design']\n",
    "bigbestbadness = history[0]['badness']\n",
    "bigbestbadness"
   ]
  },
  {
   "cell_type": "code",
   "execution_count": null,
   "metadata": {},
   "outputs": [],
   "source": [
    "\" \".join([ str(directions[b]) for b in bigbest ])"
   ]
  },
  {
   "cell_type": "code",
   "execution_count": null,
   "metadata": {},
   "outputs": [],
   "source": [
    "sns.distplot(shared_array[:1000000])\n",
    "axvline(x=bigbestbadness,color='red')\n",
    "axvline(x=LOWEST,color='green')\n",
    "text(bigbestbadness,0,'%.2f'%bigbestbadness,color='red')\n",
    "sns.despine(offset=5)\n",
    "print(bestbad.value)"
   ]
  },
  {
   "cell_type": "markdown",
   "metadata": {},
   "source": [
    "## Output"
   ]
  },
  {
   "cell_type": "code",
   "execution_count": null,
   "metadata": {},
   "outputs": [],
   "source": [
    "chosen = [ directions[d] for d in bigbest ]\n",
    "' '.join([str(s) for s in chosen])"
   ]
  },
  {
   "cell_type": "code",
   "execution_count": null,
   "metadata": {},
   "outputs": [],
   "source": [
    "tab = pd.DataFrame({'direction':chosen})\n",
    "tab['type']=[ 'direction{}'.format(d) for d in tab['direction']]\n",
    "tab['trial']=np.arange(len(chosen))+1\n",
    "#tab.to_csv('recognitionyesno_theOne.csv')\n",
    "outcsv = 'recognitionyesno_bestoverall_%.2f.csv'%bigbestbadness\n",
    "tab.to_csv(outcsv)\n",
    "print(outcsv)"
   ]
  },
  {
   "cell_type": "code",
   "execution_count": null,
   "metadata": {},
   "outputs": [],
   "source": [
    "tab.head()"
   ]
  },
  {
   "cell_type": "markdown",
   "metadata": {},
   "source": [
    "## Double-check\n",
    "I know, not strictly necessary, but it sounds like a good idea to double-check what we have written out."
   ]
  },
  {
   "cell_type": "code",
   "execution_count": null,
   "metadata": {},
   "outputs": [],
   "source": [
    "drs = pd.read_csv('recognitionyesno_efficient23.csv')['direction']\n",
    "thedirs = list(set(drs))\n",
    "dr = [ thedirs.index(d) for d in drs ]"
   ]
  },
  {
   "cell_type": "code",
   "execution_count": null,
   "metadata": {},
   "outputs": [],
   "source": [
    "#drs\n",
    "trans = get_transitions(dr)\n",
    "imshow(trans)"
   ]
  },
  {
   "cell_type": "code",
   "execution_count": null,
   "metadata": {},
   "outputs": [],
   "source": [
    "badness(trans)"
   ]
  },
  {
   "cell_type": "markdown",
   "metadata": {},
   "source": [
    "# Doing this the smart way (maybe)"
   ]
  },
  {
   "cell_type": "code",
   "execution_count": null,
   "metadata": {},
   "outputs": [],
   "source": [
    "if True:\n",
    "    #Highest number in square\n",
    "    order_of_sq = int(input(\"Enter order of sq: \"))\n",
    "\n",
    "    #Number you want to start the square with\n",
    "    top_left = int(input(\"Enter top left number: \"))\n",
    "\n",
    "    #Sets a placeholder for a variable called top_left_init\n",
    "    top_left_init=0\n",
    "\n",
    "    #Sets the initial value of top_left to a new variable because the code will change the value of top left later on \n",
    "    top_left_init += top_left\n",
    "\n",
    "    #Initialize the value of count\n",
    "    count = 0\n",
    "\n",
    "    #Add 1 to the highest value in latin square to account for the range function (the ending number is always one less than the number you enter into the range function)\n",
    "    for values in range (1,order_of_sq+1):\n",
    "\n",
    "        #Prevents the program from adding too many characters to the line\n",
    "        while count != order_of_sq:\n",
    "\n",
    "            #Prints numbers with spaces after them in a horizontal manner\n",
    "            print(top_left,sep=' ',end=' ')\n",
    "\n",
    "            #Adds 1 to the top_left\n",
    "            top_left += 1\n",
    "\n",
    "            #Count is used to keep track of how many characters are in your line\n",
    "            count+=1\n",
    "\n",
    "            #Restarts the numbers in your line when you reach the highest number\n",
    "            if top_left == order_of_sq+1:\n",
    "                top_left = 1\n",
    "\n",
    "        #Creates a new row\n",
    "        print()\n",
    "        count = 0\n",
    "\n",
    "        #Calls the initial value of top_left and adds 1 to it before beginning the next row\n",
    "        top_left_init += 1\n",
    "\n",
    "        #Resets top_left_init to 1 if it reaches the highest number in the square\n",
    "        if top_left_init == order_of_sq + 1:\n",
    "            top_left_init = 1\n",
    "            top_left = top_left_init\n",
    "        else:\n",
    "            top_left = top_left_init"
   ]
  }
 ],
 "metadata": {
  "kernelspec": {
   "display_name": "Python 2",
   "language": "python",
   "name": "python2"
  },
  "language_info": {
   "codemirror_mode": {
    "name": "ipython",
    "version": 2
   },
   "file_extension": ".py",
   "mimetype": "text/x-python",
   "name": "python",
   "nbconvert_exporter": "python",
   "pygments_lexer": "ipython2",
   "version": "2.7.14"
  }
 },
 "nbformat": 4,
 "nbformat_minor": 2
}
