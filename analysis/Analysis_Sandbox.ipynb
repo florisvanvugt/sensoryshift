{
 "cells": [
  {
   "cell_type": "markdown",
   "metadata": {},
   "source": [
    "This is simply a sandbox for exploring data that we have captured from the inmotion robot in the sensory shift experiment."
   ]
  },
  {
   "cell_type": "code",
   "execution_count": null,
   "metadata": {},
   "outputs": [],
   "source": [
    "%pylab inline\n",
    "\n",
    "import pandas as pd\n",
    "import pickle\n",
    "import json\n",
    "import seaborn as sns"
   ]
  },
  {
   "cell_type": "code",
   "execution_count": null,
   "metadata": {},
   "outputs": [],
   "source": [
    "#prefix = \"incoming/tim/tim_sensoryshift_06_02.12h54m16\"\n",
    "prefix = \"incoming/test_sensoryshift_06_02.14h01m37\""
   ]
  },
  {
   "cell_type": "code",
   "execution_count": null,
   "metadata": {},
   "outputs": [],
   "source": [
    "dumpf = '%sdump.pickle'%prefix\n",
    "dump = pickle.load(open(dumpf,'rb'))"
   ]
  },
  {
   "cell_type": "code",
   "execution_count": null,
   "metadata": {},
   "outputs": [],
   "source": [
    "jsonf = '%sparameters.json'%prefix\n",
    "conf = json.load(open(jsonf,'r'))"
   ]
  },
  {
   "cell_type": "code",
   "execution_count": null,
   "metadata": {},
   "outputs": [],
   "source": [
    "for i,d in enumerate(dump):\n",
    "    print(i)\n",
    "    print(len(d['captured']))"
   ]
  },
  {
   "cell_type": "code",
   "execution_count": null,
   "metadata": {},
   "outputs": [],
   "source": [
    "# Let's show one trial\n",
    "trial = dump[0]"
   ]
  },
  {
   "cell_type": "code",
   "execution_count": null,
   "metadata": {},
   "outputs": [],
   "source": [
    "rec = pd.DataFrame(trial['captured'])\n",
    "rec.columns = ['x','y','fx','fy','fz']"
   ]
  },
  {
   "cell_type": "code",
   "execution_count": null,
   "metadata": {},
   "outputs": [],
   "source": [
    "rec.head()"
   ]
  },
  {
   "cell_type": "code",
   "execution_count": null,
   "metadata": {},
   "outputs": [],
   "source": [
    "#plot(rec['x']) #???\n",
    "def draw_circle(ax,pos,rad):\n",
    "    angs = linspace(0,2*pi,100) # draw a little ball\n",
    "    x,y=pos\n",
    "    xs = [ x+rad*cos(a) for a in angs]\n",
    "    ys = [ y+rad*sin(a) for a in angs]\n",
    "    plot( xs,ys, '-',color='darkgray')\n",
    "\n",
    "def draw_reference(ax,conf,trialdata):\n",
    "    draw_circle(ax,conf['robot_center'],conf['center_marker_radius'])\n",
    "    draw_circle(ax,trialdata['target_position'],conf['target_radius'])"
   ]
  },
  {
   "cell_type": "code",
   "execution_count": null,
   "metadata": {},
   "outputs": [],
   "source": [
    "from ipywidgets import *"
   ]
  },
  {
   "cell_type": "code",
   "execution_count": null,
   "metadata": {},
   "outputs": [],
   "source": [
    "def plottrial(i):\n",
    "    f,ax= subplots(1,1,figsize=(12,7))\n",
    "    trial = dump[i]\n",
    "    rec = pd.DataFrame(trial['captured'])\n",
    "    rec.columns = ['x','y','fx','fy','fz']\n",
    "    draw_reference(ax,conf,trial)\n",
    "    ax.plot(rec['x'],rec['y'],'-')\n",
    "    sc = conf['review_force_scale']\n",
    "    for i in range(0,rec.shape[0],10): # subsample a little bit\n",
    "        row = rec.iloc[i]\n",
    "        ax.arrow(row['x'],row['y'],sc*row['fx'],sc*row['fy'])\n",
    "    ax.set_xlim(-.3,.3)\n",
    "    ax.set_ylim(-.1,.2)\n",
    "    ax.set_aspect('equal')\n",
    "    sns.despine(offset=5)\n",
    "interact(plottrial,i=(0,len(dump)-1))"
   ]
  }
 ],
 "metadata": {
  "kernelspec": {
   "display_name": "Python 3",
   "language": "python",
   "name": "python3"
  },
  "language_info": {
   "codemirror_mode": {
    "name": "ipython",
    "version": 3
   },
   "file_extension": ".py",
   "mimetype": "text/x-python",
   "name": "python",
   "nbconvert_exporter": "python",
   "pygments_lexer": "ipython3",
   "version": "3.6.7"
  }
 },
 "nbformat": 4,
 "nbformat_minor": 2
}
