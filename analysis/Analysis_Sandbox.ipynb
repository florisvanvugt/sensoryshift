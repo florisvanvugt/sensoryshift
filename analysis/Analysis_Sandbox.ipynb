{
 "cells": [
  {
   "cell_type": "markdown",
   "metadata": {},
   "source": [
    "This is simply a sandbox for exploring data that we have captured from the inmotion robot in the sensory shift experiment."
   ]
  },
  {
   "cell_type": "code",
   "execution_count": null,
   "metadata": {},
   "outputs": [],
   "source": [
    "%pylab inline\n",
    "\n",
    "import pandas as pd\n",
    "import pickle\n",
    "import json\n",
    "import seaborn as sns"
   ]
  },
  {
   "cell_type": "code",
   "execution_count": null,
   "metadata": {},
   "outputs": [],
   "source": [
    "SAMPLING_RATE = 200\n",
    "DT = 1/(SAMPLING_RATE)"
   ]
  },
  {
   "cell_type": "code",
   "execution_count": null,
   "metadata": {},
   "outputs": [],
   "source": [
    "#prefix = \"incoming/tim/tim_sensoryshift_06_02.12h54m16\"\n",
    "#prefix = \"incoming/neeraj_sensoryshift_06_02.14h08m54\"\n",
    "prefix = \"incoming/RS02/RS02_recognitionrecall_08_04.11h10m03\""
   ]
  },
  {
   "cell_type": "code",
   "execution_count": null,
   "metadata": {},
   "outputs": [],
   "source": [
    "dumpf = '%sdump.pickle'%prefix\n",
    "dump = pickle.load(open(dumpf,'rb'))"
   ]
  },
  {
   "cell_type": "code",
   "execution_count": null,
   "metadata": {},
   "outputs": [],
   "source": [
    "trialsf = '%strials.txt'%prefix\n",
    "trialdata = pd.read_csv(trialsf,sep=' ')\n",
    "trialdata.head()"
   ]
  },
  {
   "cell_type": "code",
   "execution_count": null,
   "metadata": {},
   "outputs": [],
   "source": [
    "print(\"Read %d trials\"%len(dump))"
   ]
  },
  {
   "cell_type": "code",
   "execution_count": null,
   "metadata": {},
   "outputs": [],
   "source": [
    "jsonf = '%sparameters.json'%prefix\n",
    "conf = json.load(open(jsonf,'r'))"
   ]
  },
  {
   "cell_type": "code",
   "execution_count": null,
   "metadata": {},
   "outputs": [],
   "source": [
    "for i,d in enumerate(dump):\n",
    "    print(\"trial %d : %d captured samples\"%(i,len(d['captured'])))\n",
    "    #print(len(d['captured']))"
   ]
  },
  {
   "cell_type": "code",
   "execution_count": null,
   "metadata": {},
   "outputs": [],
   "source": [
    "# Convert each trial into data frame\n",
    "for d in dump:\n",
    "    rec = pd.DataFrame(d['captured'])\n",
    "    rec.columns = ['x','y','fx','fy','fz']\n",
    "    rec['t']=arange(rec.shape[0])/SAMPLING_RATE\n",
    "    rec['vx']=diff(rec['x'],prepend=[np.nan])/DT\n",
    "    rec['vy']=diff(rec['y'],prepend=[np.nan])/DT\n",
    "    rec['vtot']=sqrt(rec['vx']**2 + rec['vy']**2)\n",
    "    d['traj']=rec"
   ]
  },
  {
   "cell_type": "code",
   "execution_count": null,
   "metadata": {},
   "outputs": [],
   "source": [
    "rec.head()"
   ]
  },
  {
   "cell_type": "code",
   "execution_count": null,
   "metadata": {},
   "outputs": [],
   "source": [
    "from ipywidgets import *"
   ]
  },
  {
   "cell_type": "code",
   "execution_count": null,
   "metadata": {},
   "outputs": [],
   "source": [
    "def plottrial(i):\n",
    "    f,axs= subplots(2,2,figsize=(12,7))\n",
    "    ax = axs[0][0]\n",
    "    trial = dump[i]\n",
    "    rec = trial['traj']\n",
    "    ax.plot(rec['x'],rec['y'],'-')    \n",
    "    sc = conf['review_force_scale']\n",
    "    for i in range(0,rec.shape[0],10): # subsample a little bit\n",
    "        row = rec.iloc[i]\n",
    "        ax.arrow(row['x'],row['y'],sc*row['fx'],sc*row['fy'])\n",
    "    #ax.plot(trial['target_position'],'o')\n",
    "    ax.set_xlim(-.3,.3)\n",
    "    ax.set_ylim(-.1,.2)\n",
    "    ax.set_aspect('equal')\n",
    "    \n",
    "    ax = axs[0][1]\n",
    "    ax.plot(rec['t'],rec['x'],label='x')\n",
    "    ax.plot(rec['t'],rec['y'],label='y')\n",
    "\n",
    "    ax = axs[1][0]\n",
    "    ax.plot(rec['t'],rec['vx'],label='vx')\n",
    "    ax.plot(rec['t'],rec['vy'],label='vy')\n",
    "\n",
    "    ax = axs[1][1]\n",
    "    ax.plot(rec['t'],rec['vtot'],label='vtot')\n",
    "    #ax.plot(rec['t'],rec['fy'],label='fy')\n",
    "    \n",
    "    \n",
    "    sns.despine(offset=5)\n",
    "interact(plottrial,i=(0,len(dump)-1))"
   ]
  },
  {
   "cell_type": "markdown",
   "metadata": {},
   "source": [
    "# Compute peak velocity"
   ]
  },
  {
   "cell_type": "code",
   "execution_count": null,
   "metadata": {},
   "outputs": [],
   "source": [
    "vmaxx = []\n",
    "for trial in dump:\n",
    "    rec = trial['traj']\n",
    "    vs = [ v for v in rec['vtot'] if ~np.isnan(v) ]\n",
    "    vmax = max(vs)\n",
    "    vmaxpoint = rec [ rec['vtot']==vmax ].iloc[0]\n",
    "    vmaxx.append({'trial':trial['trial'],\n",
    "                 'vmax':vmax,\n",
    "                 'vmax_x':vmaxpoint['x'],\n",
    "                 'vmax_y':vmaxpoint['y']})\n",
    "vmaxx = pd.DataFrame(vmaxx)"
   ]
  },
  {
   "cell_type": "code",
   "execution_count": null,
   "metadata": {},
   "outputs": [],
   "source": [
    "vmaxx"
   ]
  },
  {
   "cell_type": "code",
   "execution_count": null,
   "metadata": {},
   "outputs": [],
   "source": []
  }
 ],
 "metadata": {
  "kernelspec": {
   "display_name": "Python 3",
   "language": "python",
   "name": "python3"
  },
  "language_info": {
   "codemirror_mode": {
    "name": "ipython",
    "version": 3
   },
   "file_extension": ".py",
   "mimetype": "text/x-python",
   "name": "python",
   "nbconvert_exporter": "python",
   "pygments_lexer": "ipython3",
   "version": "3.6.7"
  }
 },
 "nbformat": 4,
 "nbformat_minor": 2
}
