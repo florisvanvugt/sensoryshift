{
 "cells": [
  {
   "cell_type": "code",
   "execution_count": null,
   "metadata": {},
   "outputs": [],
   "source": [
    "%pylab inline\n",
    "import pandas as pd\n",
    "import random"
   ]
  },
  {
   "cell_type": "code",
   "execution_count": null,
   "metadata": {},
   "outputs": [],
   "source": [
    "SUBJECT = \"RS06\"\n",
    "N_TRIALS = 20 # take the last so many trials from the training block\n",
    "N_TARGETS  = 5 # how many targets to select"
   ]
  },
  {
   "cell_type": "code",
   "execution_count": null,
   "metadata": {},
   "outputs": [],
   "source": [
    "inp = pd.read_csv('{}_recogAngles.csv'.format(SUBJECT))\n",
    "ec_train_dir = inp['ec_train_dir']\n",
    "ec_Day1Recall_dir = inp['ec_Day1Recall_dir']"
   ]
  },
  {
   "cell_type": "code",
   "execution_count": null,
   "metadata": {},
   "outputs": [],
   "source": [
    "assert len(ec_train_dir)==N_TARGETS\n",
    "assert len(ec_Day1Recall_dir)==N_TARGETS"
   ]
  },
  {
   "cell_type": "code",
   "execution_count": null,
   "metadata": {},
   "outputs": [],
   "source": [
    "dat = pd.read_csv(\"{}_data.csv\".format(SUBJECT)) # all the data for that subject\n",
    "movs = list(dat[ (dat['sessionName']=='Day1Training') & (dat['trialtype']=='feedback') ]['handAngle'])[-N_TRIALS:]\n",
    "assert len(movs)==N_TRIALS"
   ]
  },
  {
   "cell_type": "code",
   "execution_count": null,
   "metadata": {},
   "outputs": [],
   "source": [
    "def iqr(ang, num_angle=5):\n",
    "    \"\"\" Sample num_angle items from within the interquartile range of ang. Fancy function from Neeraj. \"\"\"\n",
    "    rand_ang = []\n",
    "    q75, q50, q25 = np.percentile(ang, [75 ,50, 25])\n",
    "    within_qr = [ a for a in ang if a>=q25 and a<=q75 ]\n",
    "    print(\"{} values in IQR\".format(len(within_qr)))\n",
    "    rand_ang =  random.sample(list(within_qr), num_angle-1)\n",
    "    rand_ang.append(q50)\n",
    "    return rand_ang #, qr"
   ]
  },
  {
   "cell_type": "markdown",
   "metadata": {},
   "source": [
    "Now we need to \"predict\" where they would move on day 2 recall.\n",
    "For this, see the notebook `PredictionUsingVeryDeepNeuralNetwork`"
   ]
  },
  {
   "cell_type": "code",
   "execution_count": null,
   "metadata": {},
   "outputs": [],
   "source": [
    "PREDICT_SLOPE = 0.3213691553011379 # from that other notebook with the fancy name"
   ]
  },
  {
   "cell_type": "code",
   "execution_count": null,
   "metadata": {},
   "outputs": [],
   "source": [
    "ec_Day2Predict_dir = [ PREDICT_SLOPE*d for d in iqr(movs,N_TARGETS)]"
   ]
  },
  {
   "cell_type": "markdown",
   "metadata": {},
   "source": [
    "# Some checks"
   ]
  },
  {
   "cell_type": "code",
   "execution_count": null,
   "metadata": {},
   "outputs": [],
   "source": [
    "for i,(vals,lbl) in enumerate([ \n",
    "    (ec_train_dir,'ec_train_dir'),\n",
    "    (ec_Day1Recall_dir,'ec_Day1Recall_dir'),\n",
    "    (ec_Day2Predict_dir,'ec_Day2Predict_dir'),\n",
    "]):\n",
    "    plot([i]*len(vals),vals,'o',label=lbl)\n",
    "legend()"
   ]
  },
  {
   "cell_type": "code",
   "execution_count": null,
   "metadata": {},
   "outputs": [],
   "source": [
    "vals"
   ]
  },
  {
   "cell_type": "markdown",
   "metadata": {},
   "source": [
    "# Make a recognition schedule from this."
   ]
  },
  {
   "cell_type": "code",
   "execution_count": null,
   "metadata": {},
   "outputs": [],
   "source": [
    "# Let's take all combinations of pairs from the three lists.\n",
    "sources = [(ec_train_dir,'ec_train_dir'),\n",
    "    (ec_Day1Recall_dir,'ec_Day1Recall_dir'),\n",
    "    (ec_Day2Predict_dir,'ec_Day2Predict_dir')]"
   ]
  },
  {
   "cell_type": "code",
   "execution_count": null,
   "metadata": {},
   "outputs": [],
   "source": [
    "biglist = []\n",
    "for i,(valsP,lblP) in enumerate(sources):\n",
    "    for j,(valsQ,lblQ) in enumerate(sources):\n",
    "        if i<j:\n",
    "            print(lblP,lblQ)\n",
    "            for p in valsP:\n",
    "                for q in valsQ:\n",
    "                    flip = random.choice([True,False])\n",
    "                    if flip:\n",
    "                        a,b,la,lb=p,q,lblP,lblQ\n",
    "                    else:\n",
    "                        a,b,la,lb=q,p,lblQ,lblP\n",
    "                    biglist.append({'directionA':a,'directionB':b,'typeA':la,'typeB':lb})"
   ]
  },
  {
   "cell_type": "code",
   "execution_count": null,
   "metadata": {},
   "outputs": [],
   "source": [
    "pd.DataFrame(biglist).head()"
   ]
  },
  {
   "cell_type": "code",
   "execution_count": null,
   "metadata": {},
   "outputs": [],
   "source": [
    "random.shuffle(biglist)"
   ]
  },
  {
   "cell_type": "code",
   "execution_count": null,
   "metadata": {},
   "outputs": [],
   "source": [
    "for tr,b in enumerate(biglist):\n",
    "    b['trial']=tr+1"
   ]
  },
  {
   "cell_type": "code",
   "execution_count": null,
   "metadata": {},
   "outputs": [],
   "source": [
    "biglist = pd.DataFrame(biglist)\n",
    "biglist.head()"
   ]
  },
  {
   "cell_type": "code",
   "execution_count": null,
   "metadata": {},
   "outputs": [],
   "source": [
    "schedf = '{}_recognitionschedule.csv'.format(SUBJECT)\n",
    "biglist.to_csv(schedf,index=False)"
   ]
  },
  {
   "cell_type": "code",
   "execution_count": null,
   "metadata": {},
   "outputs": [],
   "source": []
  }
 ],
 "metadata": {
  "kernelspec": {
   "display_name": "Python 3",
   "language": "python",
   "name": "python3"
  },
  "language_info": {
   "codemirror_mode": {
    "name": "ipython",
    "version": 3
   },
   "file_extension": ".py",
   "mimetype": "text/x-python",
   "name": "python",
   "nbconvert_exporter": "python",
   "pygments_lexer": "ipython3",
   "version": "3.6.7"
  }
 },
 "nbformat": 4,
 "nbformat_minor": 2
}
