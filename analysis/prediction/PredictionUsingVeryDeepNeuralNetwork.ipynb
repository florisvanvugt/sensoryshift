{
 "cells": [
  {
   "cell_type": "code",
   "execution_count": 65,
   "metadata": {},
   "outputs": [
    {
     "name": "stdout",
     "output_type": "stream",
     "text": [
      "Populating the interactive namespace from numpy and matplotlib\n"
     ]
    }
   ],
   "source": [
    "%pylab inline\n",
    "import pandas as pd\n",
    "import statsmodels.api as sm"
   ]
  },
  {
   "cell_type": "code",
   "execution_count": 2,
   "metadata": {},
   "outputs": [],
   "source": [
    "SUBJECTS = ['RS02','RS03','RS04']"
   ]
  },
  {
   "cell_type": "markdown",
   "metadata": {},
   "source": [
    "Neeraj's super clear naming scheme:\n",
    "\n",
    "* 1 = familiarisation\n",
    "* 2 = baseline\n",
    "* 3 = day 1 training rotation\n",
    "* 4 = day 1 end recall\n",
    "* 5 = day 2 recall\n",
    "* 6 = day 2 retraining\n"
   ]
  },
  {
   "cell_type": "markdown",
   "metadata": {},
   "source": [
    "Let's take the following sets of trials (direction at vmax) from each subject:\n",
    "\n",
    "* `recall1` End day 1 no feedback   (session 4)\n",
    "* `trainnof1` Train day 1 no feedback trials (session 3 but no Feedback only)\n",
    "* `trainfb1` Train day 1 last feedback trials (session 3 but with Feedback and taking only the last N trials)\n",
    "\n",
    "And also for everyone:\n",
    "\n",
    "* `recall2` Recall day 2 no feedback (session 5)"
   ]
  },
  {
   "cell_type": "code",
   "execution_count": 3,
   "metadata": {},
   "outputs": [],
   "source": [
    "PREDICTORS = ['recall1','trainnof1','trainfb1'] # these are the \"samples\" we use as predictors"
   ]
  },
  {
   "cell_type": "code",
   "execution_count": 4,
   "metadata": {},
   "outputs": [],
   "source": [
    "TARGET = 'recall2'  # what we are trying to predict"
   ]
  },
  {
   "cell_type": "code",
   "execution_count": 5,
   "metadata": {},
   "outputs": [],
   "source": [
    "# How many trials to take from the end of the day1 feedback trials \n",
    "N_TRIALS = 20"
   ]
  },
  {
   "cell_type": "code",
   "execution_count": 6,
   "metadata": {},
   "outputs": [],
   "source": [
    "alldata = []\n",
    "samples = {} # for each subject we put a set of samples\n",
    "for subj in SUBJECTS:\n",
    "    tab = pd.read_csv('{}_data.csv'.format(subj))\n",
    "    alldata.append(tab)\n",
    "    samples[subj]={\n",
    "        \"trainnof1\":list(tab[ (tab['session']==3) & (tab['trialtype']=='noFeedback') ]['handAngle']),\n",
    "        \"trainfb1\": list(tab[ (tab['session']==3) & (tab['trialtype']=='feedback') ]['handAngle'])[-N_TRIALS:],\n",
    "        \"recall1\":list(tab[ tab['session']==4 ]['handAngle']),\n",
    "        \"recall2\":list(tab[ tab['session']==5 ]['handAngle']) \n",
    "    }\n",
    "alldata = pd.concat(alldata)\n",
    "alldata.to_csv('tmp.csv')"
   ]
  },
  {
   "cell_type": "code",
   "execution_count": 7,
   "metadata": {},
   "outputs": [],
   "source": [
    "#samples"
   ]
  },
  {
   "cell_type": "code",
   "execution_count": 8,
   "metadata": {},
   "outputs": [
    {
     "data": {
      "text/html": [
       "<div>\n",
       "<style scoped>\n",
       "    .dataframe tbody tr th:only-of-type {\n",
       "        vertical-align: middle;\n",
       "    }\n",
       "\n",
       "    .dataframe tbody tr th {\n",
       "        vertical-align: top;\n",
       "    }\n",
       "\n",
       "    .dataframe thead th {\n",
       "        text-align: right;\n",
       "    }\n",
       "</style>\n",
       "<table border=\"1\" class=\"dataframe\">\n",
       "  <thead>\n",
       "    <tr style=\"text-align: right;\">\n",
       "      <th></th>\n",
       "      <th>cumultrial</th>\n",
       "      <th>groupid</th>\n",
       "      <th>groupnum</th>\n",
       "      <th>handAngle</th>\n",
       "      <th>session</th>\n",
       "      <th>subjectid</th>\n",
       "      <th>subjectnum</th>\n",
       "      <th>sx</th>\n",
       "      <th>sy</th>\n",
       "      <th>trial</th>\n",
       "      <th>trialtype</th>\n",
       "      <th>trialvalid</th>\n",
       "      <th>tx</th>\n",
       "      <th>ty</th>\n",
       "      <th>vmax</th>\n",
       "      <th>vmax_x</th>\n",
       "      <th>vmax_y</th>\n",
       "    </tr>\n",
       "  </thead>\n",
       "  <tbody>\n",
       "    <tr>\n",
       "      <th>0</th>\n",
       "      <td>1</td>\n",
       "      <td>recall</td>\n",
       "      <td>1</td>\n",
       "      <td>-8.482259</td>\n",
       "      <td>1</td>\n",
       "      <td>RS02</td>\n",
       "      <td>2</td>\n",
       "      <td>0.023</td>\n",
       "      <td>-0.05</td>\n",
       "      <td>1</td>\n",
       "      <td>feedback</td>\n",
       "      <td>1</td>\n",
       "      <td>0.023</td>\n",
       "      <td>0.1</td>\n",
       "      <td>0.288874</td>\n",
       "      <td>0.009687</td>\n",
       "      <td>0.039271</td>\n",
       "    </tr>\n",
       "    <tr>\n",
       "      <th>1</th>\n",
       "      <td>2</td>\n",
       "      <td>recall</td>\n",
       "      <td>1</td>\n",
       "      <td>-5.948008</td>\n",
       "      <td>1</td>\n",
       "      <td>RS02</td>\n",
       "      <td>2</td>\n",
       "      <td>0.023</td>\n",
       "      <td>-0.05</td>\n",
       "      <td>2</td>\n",
       "      <td>feedback</td>\n",
       "      <td>1</td>\n",
       "      <td>0.023</td>\n",
       "      <td>0.1</td>\n",
       "      <td>0.365116</td>\n",
       "      <td>0.013358</td>\n",
       "      <td>0.042547</td>\n",
       "    </tr>\n",
       "    <tr>\n",
       "      <th>2</th>\n",
       "      <td>3</td>\n",
       "      <td>recall</td>\n",
       "      <td>1</td>\n",
       "      <td>-8.413480</td>\n",
       "      <td>1</td>\n",
       "      <td>RS02</td>\n",
       "      <td>2</td>\n",
       "      <td>0.023</td>\n",
       "      <td>-0.05</td>\n",
       "      <td>3</td>\n",
       "      <td>feedback</td>\n",
       "      <td>1</td>\n",
       "      <td>0.023</td>\n",
       "      <td>0.1</td>\n",
       "      <td>0.408926</td>\n",
       "      <td>0.015271</td>\n",
       "      <td>0.002254</td>\n",
       "    </tr>\n",
       "    <tr>\n",
       "      <th>3</th>\n",
       "      <td>4</td>\n",
       "      <td>recall</td>\n",
       "      <td>1</td>\n",
       "      <td>0.138782</td>\n",
       "      <td>1</td>\n",
       "      <td>RS02</td>\n",
       "      <td>2</td>\n",
       "      <td>0.023</td>\n",
       "      <td>-0.05</td>\n",
       "      <td>4</td>\n",
       "      <td>feedback</td>\n",
       "      <td>1</td>\n",
       "      <td>0.023</td>\n",
       "      <td>0.1</td>\n",
       "      <td>0.394741</td>\n",
       "      <td>0.023158</td>\n",
       "      <td>0.015186</td>\n",
       "    </tr>\n",
       "    <tr>\n",
       "      <th>4</th>\n",
       "      <td>5</td>\n",
       "      <td>recall</td>\n",
       "      <td>1</td>\n",
       "      <td>-5.988708</td>\n",
       "      <td>1</td>\n",
       "      <td>RS02</td>\n",
       "      <td>2</td>\n",
       "      <td>0.023</td>\n",
       "      <td>-0.05</td>\n",
       "      <td>5</td>\n",
       "      <td>feedback</td>\n",
       "      <td>1</td>\n",
       "      <td>0.023</td>\n",
       "      <td>0.1</td>\n",
       "      <td>0.398419</td>\n",
       "      <td>0.014179</td>\n",
       "      <td>0.034089</td>\n",
       "    </tr>\n",
       "  </tbody>\n",
       "</table>\n",
       "</div>"
      ],
      "text/plain": [
       "   cumultrial groupid  groupnum  handAngle  session subjectid  subjectnum  \\\n",
       "0           1  recall         1  -8.482259        1      RS02           2   \n",
       "1           2  recall         1  -5.948008        1      RS02           2   \n",
       "2           3  recall         1  -8.413480        1      RS02           2   \n",
       "3           4  recall         1   0.138782        1      RS02           2   \n",
       "4           5  recall         1  -5.988708        1      RS02           2   \n",
       "\n",
       "      sx    sy  trial trialtype  trialvalid     tx   ty      vmax    vmax_x  \\\n",
       "0  0.023 -0.05      1  feedback           1  0.023  0.1  0.288874  0.009687   \n",
       "1  0.023 -0.05      2  feedback           1  0.023  0.1  0.365116  0.013358   \n",
       "2  0.023 -0.05      3  feedback           1  0.023  0.1  0.408926  0.015271   \n",
       "3  0.023 -0.05      4  feedback           1  0.023  0.1  0.394741  0.023158   \n",
       "4  0.023 -0.05      5  feedback           1  0.023  0.1  0.398419  0.014179   \n",
       "\n",
       "     vmax_y  \n",
       "0  0.039271  \n",
       "1  0.042547  \n",
       "2  0.002254  \n",
       "3  0.015186  \n",
       "4  0.034089  "
      ]
     },
     "execution_count": 8,
     "metadata": {},
     "output_type": "execute_result"
    }
   ],
   "source": [
    "alldata.head()"
   ]
  },
  {
   "cell_type": "markdown",
   "metadata": {},
   "source": [
    "# First approach: taking average\n",
    "For each predictor, we can take the average, and try to predict the movements during the target phase."
   ]
  },
  {
   "cell_type": "code",
   "execution_count": 43,
   "metadata": {},
   "outputs": [],
   "source": [
    "preds = []\n",
    "for subj,values in samples.items():\n",
    "    d = {\"subject\":subj}\n",
    "    for predictor in PREDICTORS:\n",
    "        d[predictor]=mean(samples[subj][predictor])\n",
    "    preds.append(d)\n",
    "preds = pd.DataFrame(preds)"
   ]
  },
  {
   "cell_type": "code",
   "execution_count": 44,
   "metadata": {},
   "outputs": [
    {
     "data": {
      "text/html": [
       "<div>\n",
       "<style scoped>\n",
       "    .dataframe tbody tr th:only-of-type {\n",
       "        vertical-align: middle;\n",
       "    }\n",
       "\n",
       "    .dataframe tbody tr th {\n",
       "        vertical-align: top;\n",
       "    }\n",
       "\n",
       "    .dataframe thead th {\n",
       "        text-align: right;\n",
       "    }\n",
       "</style>\n",
       "<table border=\"1\" class=\"dataframe\">\n",
       "  <thead>\n",
       "    <tr style=\"text-align: right;\">\n",
       "      <th></th>\n",
       "      <th>recall1</th>\n",
       "      <th>subject</th>\n",
       "      <th>trainfb1</th>\n",
       "      <th>trainnof1</th>\n",
       "    </tr>\n",
       "  </thead>\n",
       "  <tbody>\n",
       "    <tr>\n",
       "      <th>0</th>\n",
       "      <td>-16.830574</td>\n",
       "      <td>RS02</td>\n",
       "      <td>-30.546860</td>\n",
       "      <td>-28.874920</td>\n",
       "    </tr>\n",
       "    <tr>\n",
       "      <th>1</th>\n",
       "      <td>-16.820204</td>\n",
       "      <td>RS03</td>\n",
       "      <td>-29.372498</td>\n",
       "      <td>-27.860196</td>\n",
       "    </tr>\n",
       "    <tr>\n",
       "      <th>2</th>\n",
       "      <td>-24.256984</td>\n",
       "      <td>RS04</td>\n",
       "      <td>-31.714755</td>\n",
       "      <td>-32.345843</td>\n",
       "    </tr>\n",
       "  </tbody>\n",
       "</table>\n",
       "</div>"
      ],
      "text/plain": [
       "     recall1 subject   trainfb1  trainnof1\n",
       "0 -16.830574    RS02 -30.546860 -28.874920\n",
       "1 -16.820204    RS03 -29.372498 -27.860196\n",
       "2 -24.256984    RS04 -31.714755 -32.345843"
      ]
     },
     "execution_count": 44,
     "metadata": {},
     "output_type": "execute_result"
    }
   ],
   "source": [
    "preds"
   ]
  },
  {
   "cell_type": "code",
   "execution_count": 57,
   "metadata": {},
   "outputs": [],
   "source": [
    "targ = []\n",
    "for subj,values in samples.items():\n",
    "    d = pd.DataFrame()\n",
    "    d[TARGET]=values[TARGET]\n",
    "    d[\"subject\"]=subj\n",
    "    targ.append(d)\n",
    "targ = pd.concat(targ)"
   ]
  },
  {
   "cell_type": "code",
   "execution_count": 59,
   "metadata": {},
   "outputs": [],
   "source": [
    "#targ"
   ]
  },
  {
   "cell_type": "code",
   "execution_count": 63,
   "metadata": {},
   "outputs": [],
   "source": [
    "alldat = pd.merge(preds,targ)"
   ]
  },
  {
   "cell_type": "code",
   "execution_count": 76,
   "metadata": {},
   "outputs": [
    {
     "data": {
      "text/html": [
       "<div>\n",
       "<style scoped>\n",
       "    .dataframe tbody tr th:only-of-type {\n",
       "        vertical-align: middle;\n",
       "    }\n",
       "\n",
       "    .dataframe tbody tr th {\n",
       "        vertical-align: top;\n",
       "    }\n",
       "\n",
       "    .dataframe thead th {\n",
       "        text-align: right;\n",
       "    }\n",
       "</style>\n",
       "<table border=\"1\" class=\"dataframe\">\n",
       "  <thead>\n",
       "    <tr style=\"text-align: right;\">\n",
       "      <th></th>\n",
       "      <th>recall1</th>\n",
       "      <th>subject</th>\n",
       "      <th>trainfb1</th>\n",
       "      <th>trainnof1</th>\n",
       "      <th>recall2</th>\n",
       "    </tr>\n",
       "  </thead>\n",
       "  <tbody>\n",
       "    <tr>\n",
       "      <th>0</th>\n",
       "      <td>-16.830574</td>\n",
       "      <td>RS02</td>\n",
       "      <td>-30.54686</td>\n",
       "      <td>-28.87492</td>\n",
       "      <td>-2.195953</td>\n",
       "    </tr>\n",
       "    <tr>\n",
       "      <th>1</th>\n",
       "      <td>-16.830574</td>\n",
       "      <td>RS02</td>\n",
       "      <td>-30.54686</td>\n",
       "      <td>-28.87492</td>\n",
       "      <td>-18.054329</td>\n",
       "    </tr>\n",
       "    <tr>\n",
       "      <th>2</th>\n",
       "      <td>-16.830574</td>\n",
       "      <td>RS02</td>\n",
       "      <td>-30.54686</td>\n",
       "      <td>-28.87492</td>\n",
       "      <td>-15.169154</td>\n",
       "    </tr>\n",
       "    <tr>\n",
       "      <th>3</th>\n",
       "      <td>-16.830574</td>\n",
       "      <td>RS02</td>\n",
       "      <td>-30.54686</td>\n",
       "      <td>-28.87492</td>\n",
       "      <td>-16.131772</td>\n",
       "    </tr>\n",
       "    <tr>\n",
       "      <th>4</th>\n",
       "      <td>-16.830574</td>\n",
       "      <td>RS02</td>\n",
       "      <td>-30.54686</td>\n",
       "      <td>-28.87492</td>\n",
       "      <td>-9.773434</td>\n",
       "    </tr>\n",
       "  </tbody>\n",
       "</table>\n",
       "</div>"
      ],
      "text/plain": [
       "     recall1 subject  trainfb1  trainnof1    recall2\n",
       "0 -16.830574    RS02 -30.54686  -28.87492  -2.195953\n",
       "1 -16.830574    RS02 -30.54686  -28.87492 -18.054329\n",
       "2 -16.830574    RS02 -30.54686  -28.87492 -15.169154\n",
       "3 -16.830574    RS02 -30.54686  -28.87492 -16.131772\n",
       "4 -16.830574    RS02 -30.54686  -28.87492  -9.773434"
      ]
     },
     "execution_count": 76,
     "metadata": {},
     "output_type": "execute_result"
    }
   ],
   "source": [
    "alldat.head()"
   ]
  },
  {
   "cell_type": "code",
   "execution_count": 77,
   "metadata": {},
   "outputs": [
    {
     "data": {
      "text/plain": [
       "['recall1', 'trainnof1', 'trainfb1']"
      ]
     },
     "execution_count": 77,
     "metadata": {},
     "output_type": "execute_result"
    }
   ],
   "source": [
    "PREDICTORS"
   ]
  },
  {
   "cell_type": "code",
   "execution_count": 95,
   "metadata": {},
   "outputs": [],
   "source": [
    "predictor = 'recall1'"
   ]
  },
  {
   "cell_type": "code",
   "execution_count": 108,
   "metadata": {},
   "outputs": [
    {
     "name": "stdout",
     "output_type": "stream",
     "text": [
      "                            OLS Regression Results                            \n",
      "==============================================================================\n",
      "Dep. Variable:                recall2   R-squared:                       0.041\n",
      "Model:                            OLS   Adj. R-squared:                  0.024\n",
      "Method:                 Least Squares   F-statistic:                     2.475\n",
      "Date:                Wed, 10 Apr 2019   Prob (F-statistic):              0.121\n",
      "Time:                        16:24:38   Log-Likelihood:                -178.91\n",
      "No. Observations:                  60   AIC:                             361.8\n",
      "Df Residuals:                      58   BIC:                             366.0\n",
      "Df Model:                           1                                         \n",
      "Covariance Type:            nonrobust                                         \n",
      "==============================================================================\n",
      "                 coef    std err          t      P>|t|      [0.025      0.975]\n",
      "------------------------------------------------------------------------------\n",
      "const         21.6965     20.028      1.083      0.283     -18.394      61.787\n",
      "trainfb1       1.0310      0.655      1.573      0.121      -0.281       2.343\n",
      "==============================================================================\n",
      "Omnibus:                        3.760   Durbin-Watson:                   1.316\n",
      "Prob(Omnibus):                  0.153   Jarque-Bera (JB):                2.808\n",
      "Skew:                           0.468   Prob(JB):                        0.246\n",
      "Kurtosis:                       3.496   Cond. No.                         978.\n",
      "==============================================================================\n",
      "\n",
      "Warnings:\n",
      "[1] Standard Errors assume that the covariance matrix of the errors is correctly specified.\n"
     ]
    }
   ],
   "source": [
    "Y = alldat[TARGET] \n",
    "X = alldat[predictor]\n",
    "X = sm.add_constant(X)\n",
    "model = sm.OLS(Y,X)\n",
    "results = model.fit()\n",
    "print(results.summary())"
   ]
  },
  {
   "cell_type": "code",
   "execution_count": 101,
   "metadata": {},
   "outputs": [
    {
     "data": {
      "text/plain": [
       "recall1    0.491253\n",
       "dtype: float64"
      ]
     },
     "execution_count": 101,
     "metadata": {},
     "output_type": "execute_result"
    }
   ],
   "source": [
    "results.params"
   ]
  },
  {
   "cell_type": "code",
   "execution_count": 109,
   "metadata": {},
   "outputs": [
    {
     "name": "stdout",
     "output_type": "stream",
     "text": [
      "recall1\n",
      "[0.4912532717814287]\n",
      "[14.29641460123765]\n",
      "\n",
      "trainnof1\n",
      "[0.3294066154095447]\n",
      "[15.492577344843667]\n",
      "\n",
      "trainfb1\n",
      "[0.3213691553011379]\n",
      "[15.648330411305666]\n",
      "\n"
     ]
    }
   ],
   "source": [
    "for predictor in PREDICTORS:\n",
    "    Y = alldat[TARGET] \n",
    "    X = alldat[predictor]\n",
    "    #X = sm.add_constant(X)\n",
    "    model = sm.OLS(Y,X)\n",
    "    results = model.fit()\n",
    "    print(predictor)\n",
    "    print(list(results.params))\n",
    "    print(list(results.tvalues))\n",
    "    print()\n",
    "    #print(\"{} {}\".format(predictor,results.params))\n",
    "    #print(results.summary())"
   ]
  },
  {
   "cell_type": "code",
   "execution_count": null,
   "metadata": {},
   "outputs": [],
   "source": []
  },
  {
   "cell_type": "code",
   "execution_count": null,
   "metadata": {},
   "outputs": [],
   "source": [
    "import statsmodels.api as sm"
   ]
  },
  {
   "cell_type": "code",
   "execution_count": null,
   "metadata": {},
   "outputs": [],
   "source": []
  },
  {
   "cell_type": "code",
   "execution_count": null,
   "metadata": {},
   "outputs": [],
   "source": [
    "# TODO: "
   ]
  }
 ],
 "metadata": {
  "kernelspec": {
   "display_name": "Python 3",
   "language": "python",
   "name": "python3"
  },
  "language_info": {
   "codemirror_mode": {
    "name": "ipython",
    "version": 3
   },
   "file_extension": ".py",
   "mimetype": "text/x-python",
   "name": "python",
   "nbconvert_exporter": "python",
   "pygments_lexer": "ipython3",
   "version": "3.6.7"
  }
 },
 "nbformat": 4,
 "nbformat_minor": 2
}
