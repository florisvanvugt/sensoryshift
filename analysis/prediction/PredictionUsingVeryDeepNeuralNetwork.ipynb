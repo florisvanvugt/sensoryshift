{
 "cells": [
  {
   "cell_type": "code",
   "execution_count": null,
   "metadata": {},
   "outputs": [],
   "source": [
    "%pylab inline\n",
    "import pandas as pd\n",
    "import statsmodels.api as sm"
   ]
  },
  {
   "cell_type": "code",
   "execution_count": null,
   "metadata": {},
   "outputs": [],
   "source": [
    "SUBJECTS = ['RS02','RS03','RS04']"
   ]
  },
  {
   "cell_type": "markdown",
   "metadata": {},
   "source": [
    "Neeraj's super clear naming scheme:\n",
    "\n",
    "* 1 = familiarisation\n",
    "* 2 = baseline\n",
    "* 3 = day 1 training rotation\n",
    "* 4 = day 1 end recall\n",
    "* 5 = day 2 recall\n",
    "* 6 = day 2 retraining\n"
   ]
  },
  {
   "cell_type": "markdown",
   "metadata": {},
   "source": [
    "Let's take the following sets of trials (direction at vmax) from each subject:\n",
    "\n",
    "* `recall1` End day 1 no feedback   (session 4)\n",
    "* `trainnof1` Train day 1 no feedback trials (session 3 but no Feedback only)\n",
    "* `trainfb1` Train day 1 last feedback trials (session 3 but with Feedback and taking only the last N trials)\n",
    "\n",
    "And also for everyone:\n",
    "\n",
    "* `recall2` Recall day 2 no feedback (session 5)"
   ]
  },
  {
   "cell_type": "code",
   "execution_count": null,
   "metadata": {},
   "outputs": [],
   "source": [
    "PREDICTORS = ['recall1','trainnof1','trainfb1'] # these are the \"samples\" we use as predictors"
   ]
  },
  {
   "cell_type": "code",
   "execution_count": null,
   "metadata": {},
   "outputs": [],
   "source": [
    "TARGET = 'recall2'  # what we are trying to predict"
   ]
  },
  {
   "cell_type": "code",
   "execution_count": null,
   "metadata": {},
   "outputs": [],
   "source": [
    "# How many trials to take from the end of the day1 feedback trials \n",
    "N_TRIALS = 20"
   ]
  },
  {
   "cell_type": "code",
   "execution_count": null,
   "metadata": {},
   "outputs": [],
   "source": [
    "alldata = []\n",
    "samples = {} # for each subject we put a set of samples\n",
    "for subj in SUBJECTS:\n",
    "    tab = pd.read_csv('{}_data.csv'.format(subj))\n",
    "    alldata.append(tab)\n",
    "    samples[subj]={\n",
    "        \"trainnof1\":list(tab[ (tab['session']==3) & (tab['trialtype']=='noFeedback') ]['handAngle']),\n",
    "        \"trainfb1\": list(tab[ (tab['session']==3) & (tab['trialtype']=='feedback') ]['handAngle'])[-N_TRIALS:],\n",
    "        \"recall1\":list(tab[ tab['session']==4 ]['handAngle']),\n",
    "        \"recall2\":list(tab[ tab['session']==5 ]['handAngle']) \n",
    "    }\n",
    "alldata = pd.concat(alldata)\n",
    "alldata.to_csv('tmp.csv')"
   ]
  },
  {
   "cell_type": "code",
   "execution_count": null,
   "metadata": {},
   "outputs": [],
   "source": [
    "#samples"
   ]
  },
  {
   "cell_type": "code",
   "execution_count": null,
   "metadata": {},
   "outputs": [],
   "source": [
    "alldata.head()"
   ]
  },
  {
   "cell_type": "markdown",
   "metadata": {},
   "source": [
    "# First approach: taking average\n",
    "For each predictor, we can take the average, and try to predict the movements during the target phase."
   ]
  },
  {
   "cell_type": "code",
   "execution_count": null,
   "metadata": {},
   "outputs": [],
   "source": [
    "preds = []\n",
    "for subj,values in samples.items():\n",
    "    d = {\"subject\":subj}\n",
    "    for predictor in PREDICTORS:\n",
    "        d[predictor]=mean(samples[subj][predictor])\n",
    "    preds.append(d)\n",
    "preds = pd.DataFrame(preds)"
   ]
  },
  {
   "cell_type": "code",
   "execution_count": null,
   "metadata": {},
   "outputs": [],
   "source": [
    "preds"
   ]
  },
  {
   "cell_type": "code",
   "execution_count": null,
   "metadata": {},
   "outputs": [],
   "source": [
    "targ = []\n",
    "for subj,values in samples.items():\n",
    "    d = pd.DataFrame()\n",
    "    d[TARGET]=values[TARGET]\n",
    "    d[\"subject\"]=subj\n",
    "    targ.append(d)\n",
    "targ = pd.concat(targ)"
   ]
  },
  {
   "cell_type": "code",
   "execution_count": null,
   "metadata": {},
   "outputs": [],
   "source": [
    "#targ"
   ]
  },
  {
   "cell_type": "code",
   "execution_count": null,
   "metadata": {},
   "outputs": [],
   "source": [
    "alldat = pd.merge(preds,targ)"
   ]
  },
  {
   "cell_type": "code",
   "execution_count": null,
   "metadata": {},
   "outputs": [],
   "source": [
    "alldat.head()"
   ]
  },
  {
   "cell_type": "code",
   "execution_count": null,
   "metadata": {},
   "outputs": [],
   "source": [
    "PREDICTORS"
   ]
  },
  {
   "cell_type": "code",
   "execution_count": null,
   "metadata": {},
   "outputs": [],
   "source": [
    "predictor = 'recall1'"
   ]
  },
  {
   "cell_type": "code",
   "execution_count": null,
   "metadata": {},
   "outputs": [],
   "source": [
    "Y = alldat[TARGET] \n",
    "X = alldat[predictor]\n",
    "X = sm.add_constant(X)\n",
    "model = sm.OLS(Y,X)\n",
    "results = model.fit()\n",
    "print(results.summary())"
   ]
  },
  {
   "cell_type": "code",
   "execution_count": null,
   "metadata": {},
   "outputs": [],
   "source": [
    "results.params"
   ]
  },
  {
   "cell_type": "code",
   "execution_count": null,
   "metadata": {},
   "outputs": [],
   "source": [
    "for predictor in PREDICTORS:\n",
    "    Y = alldat[TARGET] \n",
    "    X = alldat[predictor]\n",
    "    #X = sm.add_constant(X)\n",
    "    model = sm.OLS(Y,X)\n",
    "    results = model.fit()\n",
    "    print(predictor)\n",
    "    print(list(results.params))\n",
    "    print(list(results.tvalues))\n",
    "    print()\n",
    "    #print(\"{} {}\".format(predictor,results.params))\n",
    "    #print(results.summary())"
   ]
  },
  {
   "cell_type": "code",
   "execution_count": null,
   "metadata": {},
   "outputs": [],
   "source": []
  },
  {
   "cell_type": "code",
   "execution_count": null,
   "metadata": {},
   "outputs": [],
   "source": [
    "import statsmodels.api as sm"
   ]
  },
  {
   "cell_type": "code",
   "execution_count": null,
   "metadata": {},
   "outputs": [],
   "source": []
  },
  {
   "cell_type": "code",
   "execution_count": null,
   "metadata": {},
   "outputs": [],
   "source": [
    "# TODO: "
   ]
  }
 ],
 "metadata": {
  "kernelspec": {
   "display_name": "Python 3",
   "language": "python",
   "name": "python3"
  },
  "language_info": {
   "codemirror_mode": {
    "name": "ipython",
    "version": 3
   },
   "file_extension": ".py",
   "mimetype": "text/x-python",
   "name": "python",
   "nbconvert_exporter": "python",
   "pygments_lexer": "ipython3",
   "version": "3.6.7"
  }
 },
 "nbformat": 4,
 "nbformat_minor": 2
}
